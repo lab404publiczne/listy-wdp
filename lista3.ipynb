{
 "cells": [
  {
   "cell_type": "markdown",
   "id": "817cd8f2",
   "metadata": {},
   "source": [
    "# Wstęp do programowania\n",
    "\n",
    "## Lista 3\n",
    "\n",
    "Uzupełnij swoje dane poniżej, następnie przeczytaj treść zadań i umieść rozwiązania w odpowidenich komórkach pozostawionych w tym celu pod treścią. Pamiętaj dbać o specyfikację, czyli nazwy zmiennych oraz odpowiednie rozmieszczenie komórek. Jeśli uruchomisz wszystkie komórki, dokument powinien działać bez błędów."
   ]
  },
  {
   "cell_type": "markdown",
   "id": "76926f19",
   "metadata": {},
   "source": [
    "  * **Imię:** x\n",
    "  * **Nazwisko:** x\n",
    "  * **Numer indeksu:** x"
   ]
  },
  {
   "cell_type": "markdown",
   "id": "f179d9a1",
   "metadata": {},
   "source": [
    "W rozwiązaniach zadań możesz korzystać z biblioteki `math`. Staraj się nie korzystać z materiału dotyczącego 4 wykładu, czyli funkcji oraz instrukcji sterujących. Spróbuj rozwiązać zadania wykorzystując struktury składane."
   ]
  },
  {
   "cell_type": "code",
   "execution_count": 118,
   "id": "2ceefa09",
   "metadata": {},
   "outputs": [],
   "source": [
    "import math"
   ]
  },
  {
   "cell_type": "markdown",
   "id": "7e8a62e4-59fc-42e0-959b-4bd9ebd14480",
   "metadata": {},
   "source": [
    "### Zadanie 1\n",
    "Zapoznaj się z dokumentacją funkcji `zip` oraz przykładem poniżej."
   ]
  },
  {
   "cell_type": "code",
   "execution_count": 2,
   "id": "3c4930a6-67ba-4a7c-9a9b-89e45231a4e2",
   "metadata": {},
   "outputs": [
    {
     "data": {
      "text/plain": [
       "[(1, 'a'), (2, 'b'), (3, 'c')]"
      ]
     },
     "execution_count": 2,
     "metadata": {},
     "output_type": "execute_result"
    }
   ],
   "source": [
    "lista = [1, 2, 3]\n",
    "inna = ['a', 'b', 'c']\n",
    "list(zip(lista, inna))"
   ]
  },
  {
   "cell_type": "markdown",
   "id": "f505ab50-5041-4281-9b4e-de3a30e48520",
   "metadata": {},
   "source": [
    "Opisz własnymi słowami, jak na podstawie listy `L`, powstanie lista\n",
    "```python\n",
    "list(zip(L[1:], L[:-1]))\n",
    "```\n",
    "\n",
    "Opis umieść w komórce poniżej. Możesz korzystać ze wzorów i fragmentów kodu."
   ]
  },
  {
   "cell_type": "code",
   "execution_count": 332,
   "id": "405aee10-36f9-4308-a55a-98b952937410",
   "metadata": {},
   "outputs": [
    {
     "name": "stdout",
     "output_type": "stream",
     "text": [
      "[(1, 0), (2, 1), (3, 2), (4, 3), (5, 4), (6, 5), (7, 6), (8, 7)]\n"
     ]
    }
   ],
   "source": [
    "L = [0, 1, 2, 3, 4, 5, 6, 7, 8]\n",
    "print(list(zip(L[1:], L[:-1])))"
   ]
  },
  {
   "cell_type": "markdown",
   "id": "310f6ab7-3e3c-425a-9920-4da4368825ae",
   "metadata": {},
   "source": [
    "Jak widać na przykładzie, powstanie lista postaci: \\[(L\\[1\\], L\\[0\\]), (L\\[2\\], L\\[1\\]), (L\\[3\\], L\\[2\\]), ... , (L\\[-1\\], L\\[-2\\])\\]"
   ]
  },
  {
   "cell_type": "markdown",
   "id": "3aa02a87-066e-4e27-a9d2-1405686dd1f8",
   "metadata": {},
   "source": [
    "### Zadanie 2\n",
    "\n",
    "Niech\n",
    "$$X_n = \\sum_{k=1}^n \\frac{(-1)^k}{k}.$$\n",
    "Zdefiniuj listę `L` wartości ciągu $X_n$ dla $n=1, \\ldots, 100$.\n",
    "\n",
    "Rozwiązanie umieść w komórce poniżej."
   ]
  },
  {
   "cell_type": "code",
   "execution_count": 4,
   "id": "f7c74720-fe8e-483d-a4c8-3703ea4c2bd8",
   "metadata": {},
   "outputs": [
    {
     "name": "stdout",
     "output_type": "stream",
     "text": [
      "[-1.0, -0.5, -0.833, -0.583, -0.783, -0.617, -0.76, -0.635, -0.746, -0.646, -0.737, -0.653, -0.73, -0.659, -0.725, -0.663, -0.722, -0.666, -0.719, -0.669, -0.716, -0.671, -0.714, -0.673, -0.713, -0.674, -0.711, -0.676, -0.71, -0.677, -0.709, -0.678, -0.708, -0.679, -0.707, -0.679, -0.706, -0.68, -0.706, -0.681, -0.705, -0.681, -0.705, -0.682, -0.704, -0.682, -0.704, -0.683, -0.703, -0.683, -0.703, -0.684, -0.702, -0.684, -0.702, -0.684, -0.702, -0.685, -0.702, -0.685, -0.701, -0.685, -0.701, -0.685, -0.701, -0.686, -0.701, -0.686, -0.7, -0.686, -0.7, -0.686, -0.7, -0.686, -0.7, -0.687, -0.7, -0.687, -0.699, -0.687, -0.699, -0.687, -0.699, -0.687, -0.699, -0.687, -0.699, -0.687, -0.699, -0.688, -0.699, -0.688, -0.698, -0.688, -0.698, -0.688, -0.698, -0.688, -0.698, -0.688]\n"
     ]
    }
   ],
   "source": [
    "L = [sum([(-1)**k/k for k in range(1, n+1)]) for n in range (1, 101)]\n",
    "print(str([round(i, 3) for i in L]))"
   ]
  },
  {
   "cell_type": "markdown",
   "id": "3ac4361e-f664-4297-8242-62cf092dad30",
   "metadata": {},
   "source": [
    "### Zadanie 3\n",
    "\n",
    "Załóżmy, że w pewnej szkole obowiązuje system oceniania ważonego, w którym im dawniej uzyskano daną ocenę, tym mniejszą wagę jej przypisujemy.\n",
    "\n",
    "Załóżmy, że jeśli ocenę $x_i$ uzyskano $n_i$ dni temu, to jej waga wynosi $w_i = \\frac{1}{n_i^2}$. Otrzymujesz listę ocen długości $N>1$ postaci\n",
    "$$[(x_1, n_1), (x_2, n_2), \\ldots, (x_N, n_N)].$$"
   ]
  },
  {
   "cell_type": "code",
   "execution_count": 35,
   "id": "34724902-865a-4354-86be-02261f5ecb33",
   "metadata": {},
   "outputs": [],
   "source": [
    "oceny = [(3, 20), (5, 10), (4.5, 15), (2, 30), (5.5, 3)]"
   ]
  },
  {
   "cell_type": "markdown",
   "id": "80ba7ce2-1ea7-41eb-8f02-3d7cec9e58b3",
   "metadata": {},
   "source": [
    "Oblicz średnią ważoną ocen, zgodnie ze wzorem\n",
    "$$\\frac{\\sum_{i=1}^N w_ix_i}{\\sum_{i=1}^N w_i}.$$\n",
    "\n",
    "Rozwiązanie umieść w komórce poniżej."
   ]
  },
  {
   "cell_type": "code",
   "execution_count": 43,
   "id": "0cd72042-c3d3-4c89-aca7-bbc960da5f96",
   "metadata": {},
   "outputs": [
    {
     "data": {
      "text/plain": [
       "5.348387096774195"
      ]
     },
     "execution_count": 43,
     "metadata": {},
     "output_type": "execute_result"
    }
   ],
   "source": [
    "średnia = sum([x/(n**2) for x, n in oceny]) / sum([1/(n**2) for _, n in oceny])\n",
    "średnia"
   ]
  },
  {
   "cell_type": "markdown",
   "id": "87e972a7",
   "metadata": {},
   "source": [
    "### Zadanie 4\n",
    "\n",
    "#### podpunkt a\n",
    "\n",
    "Czy istnieje trójkąt pitagorejski (prostokątny o całkowitych długościach boków) o obwodzie równym 1000?\n",
    "\n",
    "Podpowiedź 1: spróbuj wygenerować wszystkie trójkąty o bokach całkowitych i obwodzie równym 1000 za pomocą list składanych --- czy znajdziesz wśród nich jakiś trójkąt prostokątny?\n",
    "\n",
    "Podpowiedź 2: rozważ następujący zbiór szukanych trójkątów zapisanych jako trójkę długości boków:\n",
    "$$\\{(a, b, c): a \\in \\{1, \\ldots, 1000\\}, b \\in \\{1, \\ldots, 1000\\}, c \\in \\{1, \\ldots, 1000\\}, a+b+c = 1000 \\text{ i } a^2 + b^2 = c^2 \\},$$\n",
    "czy potrafisz:\n",
    "\n",
    "  - Wyeliminować $c$ z tego wzoru, korzystając z tego, że znasz obwód trójkąta?\n",
    "  - Dodać warunek, który pozwoli traktować $(a, b, c)$ oraz $(b, a, c)$ jako ten sam trójkąt? Postaraj się zapisać go odpowiednio dobierając wartości, do jakich może należeć $b$.\n",
    "  - Wytłumaczyć, dlaczego wartości $a$ i $b$ nie muszą osiągać dużych wartości (np.: wartości $997$).\n",
    "  \n",
    "Rozwiązanie umieść w komórce poniżej."
   ]
  },
  {
   "cell_type": "code",
   "execution_count": 340,
   "id": "e0cae480",
   "metadata": {},
   "outputs": [
    {
     "name": "stdout",
     "output_type": "stream",
     "text": [
      "{(375, 200, 425)}\n",
      "Tak\n"
     ]
    }
   ],
   "source": [
    "# aby pozbyć się c, można je policzyć odejmując od 1000 a i b\n",
    "# można uznać że spośród boków a i b, ten dłuższy jest oznaczony jako a\n",
    "# a i b nie muszą osiągać wartości od 500 w górę ponieważ c musi być najdłuższym bokiem co jest niemożliwe dla a + b >= 500\n",
    "\n",
    "# c := 1000 - a - b tworzy nową zmienną w strukturze złożonej i zwraca jej wartość\n",
    "trojkaty = set((a, b, c) for a in range(1, 500) for b in range(1, a) if (c := 1000 - a - b)**2 == a**2 + b**2)\n",
    "\n",
    "print(trojkaty)\n",
    "print(\"Tak\" if trojkaty else \"Nie\")"
   ]
  },
  {
   "cell_type": "markdown",
   "id": "9938790c",
   "metadata": {},
   "source": [
    "#### podpunkt b\n",
    "\n",
    "Spośród trójkątów pitagorejskich o najdłuższym boku nieprzekraczającym $50$ wybierz jeden o najmniejszym i największym polu powierzchni. Ile razy większy od najmniejszego jest największy trójkąt?\n",
    "\n",
    "Podpowiedź: pamiętaj, że możesz sortować listy za pomocą metody `sort` lub funkcji `sorted`.\n",
    "\n",
    "Rozwiązanie umieść w komórce poniżej."
   ]
  },
  {
   "cell_type": "code",
   "execution_count": 326,
   "id": "d4d1c3f3",
   "metadata": {},
   "outputs": [
    {
     "name": "stdout",
     "output_type": "stream",
     "text": [
      "Najmniejszy trójkąt: 3, 4, 5 (6)\n",
      "Największy trójkąt: 30, 40, 50 (600)\n",
      "Największy trójkąt jest 100 razy większy od najmniejszego\n"
     ]
    }
   ],
   "source": [
    "trojkaty = {\n",
    "    frozenset({a, b, c}): a*b/2\n",
    "    for c in range(1, 50+1)\n",
    "    for a in range(1, c)\n",
    "    if c**2 - a**2 == (b := round(math.sqrt(c**2-a**2)))**2\n",
    "}\n",
    "            \n",
    "# print(trojkaty)\n",
    "\n",
    "najmniejsze_pole = min(trojkaty.values())\n",
    "najmniejszy_trojkat = [\", \".join([str(i) for i in sorted(t)]) for t in trojkaty.keys() if trojkaty[t] == najmniejsze_pole][0]\n",
    "       \n",
    "najwieksze_pole = max(trojkaty.values())\n",
    "najwiekszy_trojkat = [\", \".join([str(i) for i in sorted(t)]) for t in trojkaty.keys() if trojkaty[t] == najwieksze_pole][0]\n",
    "\n",
    "print(f\"Najmniejszy trójkąt: {najmniejszy_trojkat} ({najmniejsze_pole:.0f})\")\n",
    "print(f\"Największy trójkąt: {najwiekszy_trojkat} ({najwieksze_pole:.0f})\")\n",
    "print(f\"Największy trójkąt jest {najwieksze_pole/najmniejsze_pole:.0f} razy większy od najmniejszego\")"
   ]
  },
  {
   "cell_type": "markdown",
   "id": "8dc2854c-223a-44ff-ae6c-a8f31e8af5bd",
   "metadata": {},
   "source": [
    "### Zadanie 5\n",
    "\n",
    "Załóżmy, że w zmiennej `S` znajduje się zbiór niektórych województw, natomiast w zmiennej `D` słownik, który każdemu województwu przyporządkowuje zbiór miast, w których znajduje się siedziba władz wojewódzkich. Obie zmienne zdefiniowane są w komórce poniżej."
   ]
  },
  {
   "cell_type": "code",
   "execution_count": 5,
   "id": "93258632-8095-41e5-ae56-9ad4d58c9aff",
   "metadata": {},
   "outputs": [],
   "source": [
    "S = {'dolnośląskie', 'lubuskie', 'wielkopolskie'}\n",
    "D = {\n",
    "    'dolnośląskie': {'Wrocław'},\n",
    "    'kujawsko-pomorskie': {'Bydgoszcz', 'Toruń'},\n",
    "    'lubelskie': {'Lublin'},\n",
    "    'lubuskie': {'Gorzów Wielkopolski', 'Zielona Góra'},\n",
    "    'łódzkie': {'Łódź'},\n",
    "    'małopolskie': {'Kraków'},\n",
    "    'mazowieckie': {'Warszawa'},\n",
    "    'opolskie': {'Opole'},\n",
    "    'podkarpackie': {'Rzeszów'},\n",
    "    'podlaskie': {'Białystok'},\n",
    "    'pomorskie': {'Gdańsk'},\n",
    "    'śląskie': {'Katowice'},\n",
    "    'świętokrzyskie': {'Kielce'},\n",
    "    'warmińsko-mazurskie': {'Olsztyn'},\n",
    "    'wielkopolskie': {'Poznań'},\n",
    "    'zachodniopomorskie': {'Szczecin'}\n",
    "}"
   ]
  },
  {
   "cell_type": "markdown",
   "id": "9e9220ce-9d75-41f4-aa44-b41ae1b971bc",
   "metadata": {},
   "source": [
    "#### podpunkt a\n",
    "\n",
    "Stwórz zbiór miast, w których znajdują się siedziby władz województw ze słownika `S`. Rozwiązanie umieść w komórce poniżej."
   ]
  },
  {
   "cell_type": "code",
   "execution_count": 93,
   "id": "cafa7f95-93cb-4273-a810-98bb0efd70b6",
   "metadata": {},
   "outputs": [
    {
     "data": {
      "text/plain": [
       "{'Gorzów Wielkopolski', 'Poznań', 'Wrocław', 'Zielona Góra'}"
      ]
     },
     "execution_count": 93,
     "metadata": {},
     "output_type": "execute_result"
    }
   ],
   "source": [
    "W = {w for k, v in D.items() for w in v if k in S}\n",
    "W"
   ]
  },
  {
   "cell_type": "markdown",
   "id": "c429d730-8799-41c2-b1dd-049578ea016e",
   "metadata": {},
   "source": [
    "#### podpunkt b\n",
    "\n",
    "Zdefiniujmy zbiór miast."
   ]
  },
  {
   "cell_type": "code",
   "execution_count": 99,
   "id": "2f19ca65-af76-429e-9b2b-f484a3cfaff9",
   "metadata": {},
   "outputs": [],
   "source": [
    "M = {'Wrocław', 'Opole', 'Zielona Góra', 'Gorzów Wielkopolski'}"
   ]
  },
  {
   "cell_type": "markdown",
   "id": "dc60b47b-d5ce-4053-ba02-4ff35ab4f7b9",
   "metadata": {},
   "source": [
    "Wykorzystując słownik `D` znajdź zbiór województw, których siedziby władz znajdują się w zbiorze `M`. Rozwiązanie umieść w komórce poniżej."
   ]
  },
  {
   "cell_type": "code",
   "execution_count": 101,
   "id": "4e0e1ee1-d4f7-4410-a814-b61992ece194",
   "metadata": {
    "scrolled": true
   },
   "outputs": [
    {
     "data": {
      "text/plain": [
       "{'dolnośląskie', 'lubuskie', 'opolskie'}"
      ]
     },
     "execution_count": 101,
     "metadata": {},
     "output_type": "execute_result"
    }
   ],
   "source": [
    "X = {k for k, v in D.items() if v & M}\n",
    "X"
   ]
  },
  {
   "cell_type": "markdown",
   "id": "e8f7447b-7c95-41d3-b87c-a1cf3c0ce71d",
   "metadata": {},
   "source": [
    "### Zadanie 6\n",
    "\n",
    "Stwórz słownik, w którym kluczami są kąty nachylenia do dodatniej półosi OX w stopniach, natomiast wartościami współrzędne 101 punktów równomiernie rozmieszczonych na okręgu jednostkowym. Przynajmniej jeden punkt powinien leżeć na dodatniej półosi OX. Rozwiązanie umieść w komórce poniżej."
   ]
  },
  {
   "cell_type": "markdown",
   "id": "88cf2ddd-1a56-452c-b9a0-6b15c1d83fb2",
   "metadata": {},
   "source": [
    "$$\n",
    "\\left( \\cos\\left( \\frac{2 \\pi k}{101} \\right), \\quad \\sin\\left( \\frac{2 \\pi k}{101} \\right) \\right)\n",
    "$$"
   ]
  },
  {
   "cell_type": "code",
   "execution_count": 342,
   "id": "806c0f94-da09-42c1-9efb-18489efe084f",
   "metadata": {},
   "outputs": [
    {
     "name": "stdout",
     "output_type": "stream",
     "text": [
      "  0.0°: ( 1.000,  0.000)\n",
      "  3.6°: ( 0.998,  0.062)\n",
      "  7.1°: ( 0.992,  0.124)\n",
      " 10.7°: ( 0.983,  0.186)\n",
      " 14.3°: ( 0.969,  0.246)\n",
      " 17.8°: ( 0.952,  0.306)\n",
      " 21.4°: ( 0.931,  0.365)\n",
      " 25.0°: ( 0.907,  0.422)\n",
      " 28.5°: ( 0.879,  0.477)\n",
      " 32.1°: ( 0.847,  0.531)\n",
      " 35.6°: ( 0.813,  0.583)\n",
      " 39.2°: ( 0.775,  0.632)\n",
      " 42.8°: ( 0.734,  0.679)\n",
      " 46.3°: ( 0.690,  0.723)\n",
      " 49.9°: ( 0.644,  0.765)\n",
      " 53.5°: ( 0.595,  0.803)\n",
      " 57.0°: ( 0.544,  0.839)\n",
      " 60.6°: ( 0.491,  0.871)\n",
      " 64.2°: ( 0.436,  0.900)\n",
      " 67.7°: ( 0.379,  0.925)\n",
      " 71.3°: ( 0.321,  0.947)\n",
      " 74.9°: ( 0.261,  0.965)\n",
      " 78.4°: ( 0.201,  0.980)\n",
      " 82.0°: ( 0.140,  0.990)\n",
      " 85.5°: ( 0.078,  0.997)\n",
      " 89.1°: ( 0.016,  1.000)\n",
      " 92.7°: (-0.047,  0.999)\n",
      " 96.2°: (-0.109,  0.994)\n",
      " 99.8°: (-0.170,  0.985)\n",
      "103.4°: (-0.231,  0.973)\n",
      "106.9°: (-0.291,  0.957)\n",
      "110.5°: (-0.350,  0.937)\n",
      "114.1°: (-0.408,  0.913)\n",
      "117.6°: (-0.464,  0.886)\n",
      "121.2°: (-0.518,  0.855)\n",
      "124.8°: (-0.570,  0.822)\n",
      "128.3°: (-0.620,  0.785)\n",
      "131.9°: (-0.668,  0.745)\n",
      "135.4°: (-0.713,  0.702)\n",
      "139.0°: (-0.755,  0.656)\n",
      "142.6°: (-0.794,  0.608)\n",
      "146.1°: (-0.830,  0.557)\n",
      "149.7°: (-0.863,  0.504)\n",
      "153.3°: (-0.893,  0.450)\n",
      "156.8°: (-0.919,  0.393)\n",
      "160.4°: (-0.942,  0.336)\n",
      "164.0°: (-0.961,  0.276)\n",
      "167.5°: (-0.976,  0.216)\n",
      "171.1°: (-0.988,  0.155)\n",
      "174.7°: (-0.996,  0.093)\n",
      "178.2°: (-1.000,  0.031)\n",
      "181.8°: (-1.000, -0.031)\n",
      "185.3°: (-0.996, -0.093)\n",
      "188.9°: (-0.988, -0.155)\n",
      "192.5°: (-0.976, -0.216)\n",
      "196.0°: (-0.961, -0.276)\n",
      "199.6°: (-0.942, -0.336)\n",
      "203.2°: (-0.919, -0.393)\n",
      "206.7°: (-0.893, -0.450)\n",
      "210.3°: (-0.863, -0.504)\n",
      "213.9°: (-0.830, -0.557)\n",
      "217.4°: (-0.794, -0.608)\n",
      "221.0°: (-0.755, -0.656)\n",
      "224.6°: (-0.713, -0.702)\n",
      "228.1°: (-0.668, -0.745)\n",
      "231.7°: (-0.620, -0.785)\n",
      "235.2°: (-0.570, -0.822)\n",
      "238.8°: (-0.518, -0.855)\n",
      "242.4°: (-0.464, -0.886)\n",
      "245.9°: (-0.408, -0.913)\n",
      "249.5°: (-0.350, -0.937)\n",
      "253.1°: (-0.291, -0.957)\n",
      "256.6°: (-0.231, -0.973)\n",
      "260.2°: (-0.170, -0.985)\n",
      "263.8°: (-0.109, -0.994)\n",
      "267.3°: (-0.047, -0.999)\n",
      "270.9°: ( 0.016, -1.000)\n",
      "274.5°: ( 0.078, -0.997)\n",
      "278.0°: ( 0.140, -0.990)\n",
      "281.6°: ( 0.201, -0.980)\n",
      "285.1°: ( 0.261, -0.965)\n",
      "288.7°: ( 0.321, -0.947)\n",
      "292.3°: ( 0.379, -0.925)\n",
      "295.8°: ( 0.436, -0.900)\n",
      "299.4°: ( 0.491, -0.871)\n",
      "303.0°: ( 0.544, -0.839)\n",
      "306.5°: ( 0.595, -0.803)\n",
      "310.1°: ( 0.644, -0.765)\n",
      "313.7°: ( 0.690, -0.723)\n",
      "317.2°: ( 0.734, -0.679)\n",
      "320.8°: ( 0.775, -0.632)\n",
      "324.4°: ( 0.813, -0.583)\n",
      "327.9°: ( 0.847, -0.531)\n",
      "331.5°: ( 0.879, -0.477)\n",
      "335.0°: ( 0.907, -0.422)\n",
      "338.6°: ( 0.931, -0.365)\n",
      "342.2°: ( 0.952, -0.306)\n",
      "345.7°: ( 0.969, -0.246)\n",
      "349.3°: ( 0.983, -0.186)\n",
      "352.9°: ( 0.992, -0.124)\n",
      "356.4°: ( 0.998, -0.062)\n"
     ]
    }
   ],
   "source": [
    "punkty = {(a := k*2*math.pi/101): (math.cos(a), math.sin(a)) for k in range(101)}\n",
    "print(\"\\n\".join([f\"{a/(2*math.pi)*360:>5.1f}\\u00b0: ({x:>6.3f}, {y:>6.3f})\" for a, (x, y) in punkty.items()]))"
   ]
  },
  {
   "cell_type": "markdown",
   "id": "bddd6220-13ea-43fb-a42c-fdf89fc8168a",
   "metadata": {},
   "source": [
    "Sprawdź niektóre punkty, aby upewnić się, że dobrze rozwiązałeś zadanie."
   ]
  },
  {
   "cell_type": "code",
   "execution_count": 288,
   "id": "629789c8-7e80-453b-9f88-7e9b73e93105",
   "metadata": {},
   "outputs": [
    {
     "name": "stdout",
     "output_type": "stream",
     "text": [
      "True\n",
      "1.0 1.0 1.0 1.0 1.0 1.0 1.0 1.0 1.0 1.0 1.0 1.0 1.0 1.0 1.0 1.0 1.0 1.0 1.0 1.0 1.0 1.0 1.0 1.0 1.0 1.0 1.0 1.0 1.0 1.0 1.0 1.0 1.0 1.0 1.0 1.0 1.0 1.0 1.0 1.0 1.0 1.0 1.0 1.0 1.0 1.0 1.0 1.0 1.0 1.0 1.0 1.0 1.0 1.0 1.0 1.0 1.0 1.0 1.0 1.0 1.0 1.0 1.0 1.0 1.0 1.0 1.0 1.0 1.0 1.0 1.0 1.0 1.0 1.0 1.0 1.0 1.0 1.0 1.0 1.0 1.0 1.0 1.0 1.0 1.0 1.0 1.0 1.0 1.0 1.0 1.0 1.0 1.0 1.0 1.0 1.0 1.0 1.0 1.0 1.0 1.0\n",
      "0.00387 0.00387 0.00387 0.00387 0.00387 0.00387 0.00387 0.00387 0.00387 0.00387 0.00387 0.00387 0.00387 0.00387 0.00387 0.00387 0.00387 0.00387 0.00387 0.00387 0.00387 0.00387 0.00387 0.00387 0.00387 0.00387 0.00387 0.00387 0.00387 0.00387 0.00387 0.00387 0.00387 0.00387 0.00387 0.00387 0.00387 0.00387 0.00387 0.00387 0.00387 0.00387 0.00387 0.00387 0.00387 0.00387 0.00387 0.00387 0.00387 0.00387 0.00387 0.00387 0.00387 0.00387 0.00387 0.00387 0.00387 0.00387 0.00387 0.00387 0.00387 0.00387 0.00387 0.00387 0.00387 0.00387 0.00387 0.00387 0.00387 0.00387 0.00387 0.00387 0.00387 0.00387 0.00387 0.00387 0.00387 0.00387 0.00387 0.00387 0.00387 0.00387 0.00387 0.00387 0.00387 0.00387 0.00387 0.00387 0.00387 0.00387 0.00387 0.00387 0.00387 0.00387 0.00387 0.00387 0.00387 0.00387 0.00387 0.00387\n"
     ]
    }
   ],
   "source": [
    "print(punkty[0] == (1, 0))  # powinniśmy zobaczyć True\n",
    "print(*[f\"{x**2 + y**2:.1f}\" for x, y in punkty.values()]) # moduł powinien być równy 1\n",
    "print(*[f\"{(x2-x1)**2 + (y2-y1)**2:.5f}\" for (x1, y1), (x2, y2) in zip(punkty.values(), list(punkty.values())[1:])]) # odległości pomiędzy punktami obok siebie powinny być równe"
   ]
  },
  {
   "cell_type": "markdown",
   "id": "3d7a18a0",
   "metadata": {},
   "source": [
    "\n",
    "<div style=\"text-align: right\"> Powodzenia!<br><i>Zespół kursu Wstęp do programowania</i></div>"
   ]
  }
 ],
 "metadata": {
  "kernelspec": {
   "display_name": "Python 3 (ipykernel)",
   "language": "python",
   "name": "python3"
  },
  "language_info": {
   "codemirror_mode": {
    "name": "ipython",
    "version": 3
   },
   "file_extension": ".py",
   "mimetype": "text/x-python",
   "name": "python",
   "nbconvert_exporter": "python",
   "pygments_lexer": "ipython3",
   "version": "3.12.4"
  }
 },
 "nbformat": 4,
 "nbformat_minor": 5
}
