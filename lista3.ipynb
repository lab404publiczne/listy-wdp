{
 "cells": [
  {
   "cell_type": "markdown",
   "id": "817cd8f2",
   "metadata": {},
   "source": [
    "# Wstęp do programowania\n",
    "\n",
    "## Lista 3\n",
    "\n",
    "Uzupełnij swoje dane poniżej, następnie przeczytaj treść zadań i umieść rozwiązania w odpowidenich komórkach pozostawionych w tym celu pod treścią. Pamiętaj dbać o specyfikację, czyli nazwy zmiennych oraz odpowiednie rozmieszczenie komórek. Jeśli uruchomisz wszystkie komórki, dokument powinien działać bez błędów."
   ]
  },
  {
   "cell_type": "markdown",
   "id": "76926f19",
   "metadata": {},
   "source": [
    "  * **Imię:** x\n",
    "  * **Nazwisko:** x\n",
    "  * **Numer indeksu:** x"
   ]
  },
  {
   "cell_type": "markdown",
   "id": "f179d9a1",
   "metadata": {},
   "source": [
    "W rozwiązaniach zadań możesz korzystać z biblioteki `math`. Staraj się nie korzystać z materiału dotyczącego 4 wykładu, czyli funkcji oraz instrukcji sterujących. Spróbuj rozwiązać zadania wykorzystując struktury składane."
   ]
  },
  {
   "cell_type": "code",
   "execution_count": 32,
   "id": "2ceefa09",
   "metadata": {},
   "outputs": [],
   "source": [
    "import math"
   ]
  },
  {
   "cell_type": "markdown",
   "id": "7e8a62e4-59fc-42e0-959b-4bd9ebd14480",
   "metadata": {},
   "source": [
    "### Zadanie 1\n",
    "Zapoznaj się z dokumentacją funkcji `zip` oraz przykładem poniżej."
   ]
  },
  {
   "cell_type": "code",
   "execution_count": 2,
   "id": "3c4930a6-67ba-4a7c-9a9b-89e45231a4e2",
   "metadata": {},
   "outputs": [
    {
     "data": {
      "text/plain": [
       "[(1, 'a'), (2, 'b'), (3, 'c')]"
      ]
     },
     "execution_count": 2,
     "metadata": {},
     "output_type": "execute_result"
    }
   ],
   "source": [
    "lista = [1, 2, 3]\n",
    "inna = ['a', 'b', 'c']\n",
    "list(zip(lista, inna))"
   ]
  },
  {
   "cell_type": "markdown",
   "id": "f505ab50-5041-4281-9b4e-de3a30e48520",
   "metadata": {},
   "source": [
    "Opisz własnymi słowami, jak na podstawie listy `L`, powstanie lista\n",
    "```python\n",
    "list(zip(L[1:], L[:-1]))\n",
    "```\n",
    "\n",
    "Opis umieść w komórce poniżej. Możesz korzystać ze wzorów i fragmentów kodu."
   ]
  },
  {
   "cell_type": "code",
   "execution_count": 11,
   "id": "405aee10-36f9-4308-a55a-98b952937410",
   "metadata": {},
   "outputs": [
    {
     "name": "stdout",
     "output_type": "stream",
     "text": [
      "[(1, 0), (2, 1), (3, 2), (4, 3), (5, 4), (6, 5), (7, 6), (8, 7)]\n"
     ]
    }
   ],
   "source": [
    "L = [0, 1, 2, 3, 4, 5, 6, 7, 8]\n",
    "print(list(zip(L[1:], L[:-1])))"
   ]
  },
  {
   "cell_type": "markdown",
   "id": "310f6ab7-3e3c-425a-9920-4da4368825ae",
   "metadata": {},
   "source": [
    "\\[(L\\[1\\], L\\[0\\]), (L\\[2\\], L\\[1\\]), (L\\[3\\], L\\[2\\]), ... , (L\\[-1\\], L\\[-2\\])\\]"
   ]
  },
  {
   "cell_type": "markdown",
   "id": "3aa02a87-066e-4e27-a9d2-1405686dd1f8",
   "metadata": {},
   "source": [
    "### Zadanie 2\n",
    "\n",
    "Niech\n",
    "$$X_n = \\sum_{k=1}^n \\frac{(-1)^k}{k}.$$\n",
    "Zdefiniuj listę `L` wartości ciągu $X_n$ dla $n=1, \\ldots, 100$.\n",
    "\n",
    "Rozwiązanie umieść w komórce poniżej."
   ]
  },
  {
   "cell_type": "code",
   "execution_count": 4,
   "id": "f7c74720-fe8e-483d-a4c8-3703ea4c2bd8",
   "metadata": {},
   "outputs": [
    {
     "name": "stdout",
     "output_type": "stream",
     "text": [
      "[-1.0, -0.5, -0.833, -0.583, -0.783, -0.617, -0.76, -0.635, -0.746, -0.646, -0.737, -0.653, -0.73, -0.659, -0.725, -0.663, -0.722, -0.666, -0.719, -0.669, -0.716, -0.671, -0.714, -0.673, -0.713, -0.674, -0.711, -0.676, -0.71, -0.677, -0.709, -0.678, -0.708, -0.679, -0.707, -0.679, -0.706, -0.68, -0.706, -0.681, -0.705, -0.681, -0.705, -0.682, -0.704, -0.682, -0.704, -0.683, -0.703, -0.683, -0.703, -0.684, -0.702, -0.684, -0.702, -0.684, -0.702, -0.685, -0.702, -0.685, -0.701, -0.685, -0.701, -0.685, -0.701, -0.686, -0.701, -0.686, -0.7, -0.686, -0.7, -0.686, -0.7, -0.686, -0.7, -0.687, -0.7, -0.687, -0.699, -0.687, -0.699, -0.687, -0.699, -0.687, -0.699, -0.687, -0.699, -0.687, -0.699, -0.688, -0.699, -0.688, -0.698, -0.688, -0.698, -0.688, -0.698, -0.688, -0.698, -0.688]\n"
     ]
    }
   ],
   "source": [
    "L = [sum([(-1)**k/k for k in range(1, n+1)]) for n in range (1, 101)]\n",
    "print(str([round(i, 3) for i in L]))"
   ]
  },
  {
   "cell_type": "markdown",
   "id": "3ac4361e-f664-4297-8242-62cf092dad30",
   "metadata": {},
   "source": [
    "### Zadanie 3\n",
    "\n",
    "Załóżmy, że w pewnej szkole obowiązuje system oceniania ważonego, w którym im dawniej uzyskano daną ocenę, tym mniejszą wagę jej przypisujemy.\n",
    "\n",
    "Załóżmy, że jeśli ocenę $x_i$ uzyskano $n_i$ dni temu, to jej waga wynosi $w_i = \\frac{1}{n_i^2}$. Otrzymujesz listę ocen długości $N>1$ postaci\n",
    "$$[(x_1, n_1), (x_2, n_2), \\ldots, (x_N, n_N)].$$"
   ]
  },
  {
   "cell_type": "code",
   "execution_count": 35,
   "id": "34724902-865a-4354-86be-02261f5ecb33",
   "metadata": {},
   "outputs": [],
   "source": [
    "oceny = [(3, 20), (5, 10), (4.5, 15), (2, 30), (5.5, 3)]"
   ]
  },
  {
   "cell_type": "markdown",
   "id": "80ba7ce2-1ea7-41eb-8f02-3d7cec9e58b3",
   "metadata": {},
   "source": [
    "Oblicz średnią ważoną ocen, zgodnie ze wzorem\n",
    "$$\\frac{\\sum_{i=1}^N w_ix_i}{\\sum_{i=1}^N w_i}.$$\n",
    "\n",
    "Rozwiązanie umieść w komórce poniżej."
   ]
  },
  {
   "cell_type": "code",
   "execution_count": 43,
   "id": "0cd72042-c3d3-4c89-aca7-bbc960da5f96",
   "metadata": {},
   "outputs": [
    {
     "data": {
      "text/plain": [
       "5.348387096774195"
      ]
     },
     "execution_count": 43,
     "metadata": {},
     "output_type": "execute_result"
    }
   ],
   "source": [
    "średnia = sum([x/(n**2) for x, n in oceny]) / sum([1/(n**2) for _, n in oceny])\n",
    "średnia"
   ]
  },
  {
   "cell_type": "markdown",
   "id": "87e972a7",
   "metadata": {},
   "source": [
    "### Zadanie 4\n",
    "\n",
    "#### podpunkt a\n",
    "\n",
    "Czy istnieje trójkąt pitagorejski (prostokątny o całkowitych długościach boków) o obwodzie równym 1000?\n",
    "\n",
    "Podpowiedź 1: spróbuj wygenerować wszystkie trójkąty o bokach całkowitych i obwodzie równym 1000 za pomocą list składanych --- czy znajdziesz wśród nich jakiś trójkąt prostokątny?\n",
    "\n",
    "Podpowiedź 2: rozważ następujący zbiór szukanych trójkątów zapisanych jako trójkę długości boków:\n",
    "$$\\{(a, b, c): a \\in \\{1, \\ldots, 1000\\}, b \\in \\{1, \\ldots, 1000\\}, c \\in \\{1, \\ldots, 1000\\}, a+b+c = 1000 \\text{ i } a^2 + b^2 = c^2 \\},$$\n",
    "czy potrafisz:\n",
    "\n",
    "  - Wyeliminować $c$ z tego wzoru, korzystając z tego, że znasz obwód trójkąta?\n",
    "  - Dodać warunek, który pozwoli traktować $(a, b, c)$ oraz $(b, a, c)$ jako ten sam trójkąt? Postaraj się zapisać go odpowiednio dobierając wartości, do jakich może należeć $b$.\n",
    "  - Wytłumaczyć, dlaczego wartości $a$ i $b$ nie muszą osiągać dużych wartości (np.: wartości $997$).\n",
    "  \n",
    "Rozwiązanie umieść w komórce poniżej."
   ]
  },
  {
   "cell_type": "code",
   "execution_count": 24,
   "id": "e0cae480",
   "metadata": {},
   "outputs": [
    {
     "name": "stdout",
     "output_type": "stream",
     "text": [
      "{(375, 200, 425)}\n",
      "Tak\n"
     ]
    }
   ],
   "source": [
    "# aby pozbyć się c, można je policzyć odejmując od 1000 a i b\n",
    "# można uznać że spośród boków a i b, ten dłuższy jest oznaczony jako a\n",
    "# a i b nie muszą osiągać wartości od 500 w górę ponieważ c musi być najdłuższym bokiem co jest niemożliwe dla a + b >= 500\n",
    "\n",
    "trojkaty = set((a, b, 1000 - a - b) for a in range(1, 500) for b in range(1, a+1) if (1000-a-b)**2 == a**2 + b **2)\n",
    "\n",
    "print(trojkaty)\n",
    "print(\"Tak\" if trojkaty else \"Nie\")"
   ]
  },
  {
   "cell_type": "markdown",
   "id": "9938790c",
   "metadata": {},
   "source": [
    "#### podpunkt b\n",
    "\n",
    "Spośród trójkątów pitagorejskich o najdłuższym boku nieprzekraczającym $50$ wybierz jeden o najmniejszym i największym polu powierzchni. Ile razy większy od najmniejszego jest największy trójkąt?\n",
    "\n",
    "Podpowiedź: pamiętaj, że możesz sortować listy za pomocą metody `sort` lub funkcji `sorted`.\n",
    "\n",
    "Rozwiązanie umieść w komórce poniżej."
   ]
  },
  {
   "cell_type": "code",
   "execution_count": 62,
   "id": "d4d1c3f3",
   "metadata": {},
   "outputs": [
    {
     "name": "stdout",
     "output_type": "stream",
     "text": [
      "Najmniejszy trójkąt: 3, 4, 5 (6)\n",
      "Największy trójkąt: 30, 40, 50 (600)\n",
      "Największy trójkąt jest 100 razy większy od najmniejszego\n"
     ]
    }
   ],
   "source": [
    "trojkaty = {\n",
    "    frozenset({a, b, c}): a*b/2\n",
    "    for c in range(1, 50+1)\n",
    "    for a in range(1, c)\n",
    "    if (b := round(math.sqrt(c**2-a**2))) # W taki sposób można zadefiniować zmienną w strukturze złożonej od Pythona 3.8 (2019)\n",
    "    if c**2 - a**2 == b**2\n",
    "}\n",
    "            \n",
    "# print(trojkaty)\n",
    "\n",
    "najmniejsze_pole = min(trojkaty.values())\n",
    "najmniejszy_trojkat = [\", \".join([str(i) for i in sorted(t)]) for t in trojkaty.keys() if trojkaty[t] == najmniejsze_pole][0]\n",
    "       \n",
    "najwieksze_pole = max(trojkaty.values())\n",
    "najwiekszy_trojkat = [\", \".join([str(i) for i in sorted(t)]) for t in trojkaty.keys() if trojkaty[t] == najwieksze_pole][0]\n",
    "\n",
    "print(f\"Najmniejszy trójkąt: {najmniejszy_trojkat} ({najmniejsze_pole:.0f})\")\n",
    "print(f\"Największy trójkąt: {najwiekszy_trojkat} ({najwieksze_pole:.0f})\")\n",
    "print(f\"Największy trójkąt jest {najwieksze_pole/najmniejsze_pole:.0f} razy większy od najmniejszego\")"
   ]
  },
  {
   "cell_type": "markdown",
   "id": "8dc2854c-223a-44ff-ae6c-a8f31e8af5bd",
   "metadata": {},
   "source": [
    "### Zadanie 5\n",
    "\n",
    "Załóżmy, że w zmiennej `S` znajduje się zbiór niektórych województw, natomiast w zmiennej `D` słownik, który każdemu województwu przyporządkowuje zbiór miast, w których znajduje się siedziba władz wojewódzkich. Obie zmienne zdefiniowane są w komórce poniżej."
   ]
  },
  {
   "cell_type": "code",
   "execution_count": 68,
   "id": "93258632-8095-41e5-ae56-9ad4d58c9aff",
   "metadata": {},
   "outputs": [],
   "source": [
    "S = {'dolnośląskie', 'lubuskie', 'wielkopolskie'}\n",
    "D = {\n",
    "    'dolnośląskie': {'Wrocław'},\n",
    "    'kujawsko-pomorskie': {'Bydgoszcz', 'Toruń'},\n",
    "    'lubelskie': {'Lublin'},\n",
    "    'lubuskie': {'Gorzów Wielkopolski', 'Zielona Góra'},\n",
    "    'łódzkie': {'Łódź'},\n",
    "    'małopolskie': {'Kraków'},\n",
    "    'mazowieckie': {'Warszawa'},\n",
    "    'opolskie': {'Opole'},\n",
    "    'podkarpackie': {'Rzeszów'},\n",
    "    'podlaskie': {'Białystok'},\n",
    "    'pomorskie': {'Gdańsk'},\n",
    "    'śląskie': {'Katowice'},\n",
    "    'świętokrzyskie': {'Kielce'},\n",
    "    'warmińsko-mazurskie': {'Olsztyn'},\n",
    "    'wielkopolskie': {'Poznań'},\n",
    "    'zachodniopomorskie': {'Szczecin'}\n",
    "}"
   ]
  },
  {
   "cell_type": "markdown",
   "id": "9e9220ce-9d75-41f4-aa44-b41ae1b971bc",
   "metadata": {},
   "source": [
    "#### podpunkt a\n",
    "\n",
    "Stwórz zbiór miast, w których znajdują się siedziby władz województw ze słownika `S`. Rozwiązanie umieść w komórce poniżej."
   ]
  },
  {
   "cell_type": "code",
   "execution_count": 70,
   "id": "cafa7f95-93cb-4273-a810-98bb0efd70b6",
   "metadata": {},
   "outputs": [
    {
     "data": {
      "text/plain": [
       "['Wrocław',\n",
       " 'Bydgoszcz',\n",
       " 'Toruń',\n",
       " 'Lublin',\n",
       " 'Gorzów Wielkopolski',\n",
       " 'Zielona Góra',\n",
       " 'Łódź',\n",
       " 'Kraków',\n",
       " 'Warszawa',\n",
       " 'Opole',\n",
       " 'Rzeszów',\n",
       " 'Białystok',\n",
       " 'Gdańsk',\n",
       " 'Katowice',\n",
       " 'Kielce',\n",
       " 'Olsztyn',\n",
       " 'Poznań',\n",
       " 'Szczecin']"
      ]
     },
     "execution_count": 70,
     "metadata": {},
     "output_type": "execute_result"
    }
   ],
   "source": [
    "W = [w for v in D.values() for w in v]\n",
    "\n",
    "W"
   ]
  },
  {
   "cell_type": "markdown",
   "id": "c429d730-8799-41c2-b1dd-049578ea016e",
   "metadata": {},
   "source": [
    "#### podpunkt b\n",
    "\n",
    "Zdefiniujmy zbiór miast."
   ]
  },
  {
   "cell_type": "code",
   "execution_count": 74,
   "id": "2f19ca65-af76-429e-9b2b-f484a3cfaff9",
   "metadata": {},
   "outputs": [],
   "source": [
    "M = {'Wrocław', 'Opole', 'Zielona Góra', 'Gorzów Wielkopolski'}"
   ]
  },
  {
   "cell_type": "markdown",
   "id": "dc60b47b-d5ce-4053-ba02-4ff35ab4f7b9",
   "metadata": {},
   "source": [
    "Wykorzystując słownik `D` znajdź zbiór województw, których siedziby władz znajdują się w zbiorze `M`. Rozwiązanie umieść w komórce poniżej."
   ]
  },
  {
   "cell_type": "code",
   "execution_count": 76,
   "id": "4e0e1ee1-d4f7-4410-a814-b61992ece194",
   "metadata": {
    "scrolled": true
   },
   "outputs": [
    {
     "data": {
      "text/plain": [
       "['dolnośląskie', 'lubuskie', 'opolskie']"
      ]
     },
     "execution_count": 76,
     "metadata": {},
     "output_type": "execute_result"
    }
   ],
   "source": [
    "X = [k for k, v in D.items() if v & M]\n",
    "X"
   ]
  },
  {
   "cell_type": "markdown",
   "id": "e8f7447b-7c95-41d3-b87c-a1cf3c0ce71d",
   "metadata": {},
   "source": [
    "### Zadanie 6\n",
    "\n",
    "Stwórz słownik, w którym kluczami są kąty nachylenia do dodatniej półosi OX w stopniach, natomiast wartościami współrzędne 101 punktów równomiernie rozmieszczonych na okręgu jednostkowym. Przynajmniej jeden punkt powinien leżeć na dodatniej półosi OX. Rozwiązanie umieść w komórce poniżej."
   ]
  },
  {
   "cell_type": "code",
   "execution_count": 80,
   "id": "806c0f94-da09-42c1-9efb-18489efe084f",
   "metadata": {},
   "outputs": [
    {
     "data": {
      "text/plain": [
       "[(1.0, 0.0),\n",
       " (0.9980655971335943, 0.062169637431480525),\n",
       " (0.9922698723632765, 0.12409875261325934),\n",
       " (0.9826352482222637, 0.18554775382949326),\n",
       " (0.9691989991996661, 0.24627890683200135),\n",
       " (0.9520131075327299, 0.3060572545878873),\n",
       " (0.9311440620976595, 0.3646515262826552),\n",
       " (0.9066726011770726, 0.42183503206206224),\n",
       " (0.8786934000992688, 0.477386540051127),\n",
       " (0.8473147049577775, 0.531091132257275),\n",
       " (0.8126579138282503, 0.5827410360463009),\n",
       " (0.7748571071028899, 0.6321364279743263),\n",
       " (0.7340585287594601, 0.6790862068658859),\n",
       " (0.6904200205717467, 0.7234087331472498),\n",
       " (0.6441104114503978, 0.7649325315746476),\n",
       " (0.5953088642766661, 0.8034969546386757),\n",
       " (0.5442041827560273, 0.8389528040783012),\n",
       " (0.4909940809733222, 0.8711629080999505),\n",
       " (0.4358844184753712, 0.90000265206853),\n",
       " (0.3790884038403794, 0.9253604606172415),\n",
       " (0.3208257698153678, 0.9471382293110001),\n",
       " (0.26132192321286074, 0.9652517041934356),\n",
       " (0.20080707285571867, 0.9796308077490816),\n",
       " (0.13951533894392312, 0.9902199100196695),\n",
       " (0.07768384728900624, 0.9969780438256293),\n",
       " (0.015551811920350793, 0.9998790632601495),\n",
       " (-0.046640390387417706, 0.9989117448426108),\n",
       " (-0.10865215008547437, 0.9940798309400526),\n",
       " (-0.1702435557223985, 0.9854020152886813),\n",
       " (-0.23117632211496966, 0.9729118706714375),\n",
       " (-0.2912147122272519, 0.9566577190314197),\n",
       " (-0.35012644919139047, 0.9367024445236751),\n",
       " (-0.4076836149416887, 0.9131232502286188),\n",
       " (-0.46366353198532745, 0.8860113594683148),\n",
       " (-0.5178496248983254, 0.8554716628811638),\n",
       " (-0.5700322582137827, 0.8216223126204008),\n",
       " (-0.620009547460775, 0.7845942652463661),\n",
       " (-0.6675881402161536, 0.7445307750810152),\n",
       " (-0.7125839641475069, 0.7015868399847767),\n",
       " (-0.7548229391532568, 0.65592860169994),\n",
       " (-0.7941416508447533, 0.607732703080532),\n",
       " (-0.8303879827647973, 0.5571856046954289),\n",
       " (-0.8634217048966635, 0.5044828634486398),\n",
       " (-0.8931150161867915, 0.44982837600763603),\n",
       " (-0.9193530389822362, 0.3934335899667527),\n",
       " (-0.9420342634699891, 0.335516685797525),\n",
       " (-0.9610709403987245, 0.2763017327508305),\n",
       " (-0.976389420563607, 0.2160178219764834),\n",
       " (-0.9879304397407567, 0.1548981802140847),\n",
       " (-0.9956493479690186, 0.09317926748407171),\n",
       " (-0.9995162822919881, 0.031099862269836753),\n",
       " (-0.9995162822919881, -0.031099862269836506),\n",
       " (-0.9956493479690185, -0.09317926748407192),\n",
       " (-0.9879304397407568, -0.15489818021408444),\n",
       " (-0.9763894205636071, -0.21601782197648314),\n",
       " (-0.9610709403987245, -0.27630173275083025),\n",
       " (-0.9420342634699892, -0.3355166857975248),\n",
       " (-0.9193530389822364, -0.3934335899667521),\n",
       " (-0.8931150161867916, -0.4498283760076358),\n",
       " (-0.8634217048966636, -0.5044828634486397),\n",
       " (-0.8303879827647976, -0.5571856046954283),\n",
       " (-0.7941416508447534, -0.6077327030805317),\n",
       " (-0.7548229391532574, -0.6559286016999396),\n",
       " (-0.7125839641475068, -0.7015868399847768),\n",
       " (-0.6675881402161539, -0.744530775081015),\n",
       " (-0.6200095474607752, -0.784594265246366),\n",
       " (-0.5700322582137825, -0.8216223126204009),\n",
       " (-0.5178496248983256, -0.8554716628811637),\n",
       " (-0.4636635319853273, -0.8860113594683148),\n",
       " (-0.4076836149416893, -0.9131232502286186),\n",
       " (-0.3501264491913909, -0.9367024445236749),\n",
       " (-0.291214712227252, -0.9566577190314197),\n",
       " (-0.2311763221149701, -0.9729118706714374),\n",
       " (-0.17024355572239874, -0.9854020152886813),\n",
       " (-0.10865215008547438, -0.9940798309400526),\n",
       " (-0.04664039038741795, -0.9989117448426108),\n",
       " (0.015551811920350768, -0.9998790632601495),\n",
       " (0.07768384728900643, -0.9969780438256293),\n",
       " (0.13951533894392268, -0.9902199100196695),\n",
       " (0.20080707285571842, -0.9796308077490816),\n",
       " (0.2613219232128601, -0.9652517041934358),\n",
       " (0.32082576981536737, -0.9471382293110002),\n",
       " (0.3790884038403785, -0.9253604606172419),\n",
       " (0.4358844184753714, -0.9000026520685299),\n",
       " (0.490994080973322, -0.8711629080999506),\n",
       " (0.5442041827560273, -0.8389528040783012),\n",
       " (0.5953088642766656, -0.803496954638676),\n",
       " (0.6441104114503976, -0.7649325315746478),\n",
       " (0.6904200205717462, -0.7234087331472503),\n",
       " (0.7340585287594603, -0.6790862068658856),\n",
       " (0.7748571071028897, -0.6321364279743266),\n",
       " (0.8126579138282498, -0.5827410360463015),\n",
       " (0.8473147049577773, -0.5310911322572754),\n",
       " (0.8786934000992683, -0.4773865400511279),\n",
       " (0.9066726011770726, -0.4218350320620621),\n",
       " (0.9311440620976594, -0.3646515262826555),\n",
       " (0.9520131075327298, -0.30605725458788735),\n",
       " (0.969198999199666, -0.24627890683200196),\n",
       " (0.9826352482222637, -0.18554775382949354),\n",
       " (0.9922698723632765, -0.12409875261325932),\n",
       " (0.9980655971335943, -0.0621696374314802)]"
      ]
     },
     "execution_count": 80,
     "metadata": {},
     "output_type": "execute_result"
    }
   ],
   "source": [
    "punkty = [(math.cos(i*(2*math.pi)/101), math.sin(i*(2*math.pi)/101)) for i in range(101)]\n",
    "punkty"
   ]
  },
  {
   "cell_type": "markdown",
   "id": "bddd6220-13ea-43fb-a42c-fdf89fc8168a",
   "metadata": {},
   "source": [
    "Sprawdź niektóre punkty, aby upewnić się, że dobrze rozwiązałeś zadanie."
   ]
  },
  {
   "cell_type": "code",
   "execution_count": 112,
   "id": "629789c8-7e80-453b-9f88-7e9b73e93105",
   "metadata": {},
   "outputs": [
    {
     "name": "stdout",
     "output_type": "stream",
     "text": [
      "True\n",
      "1.0 0.9999999999999999 0.9999999999999999 1.0 1.0 1.0 1.0 1.0 1.0 0.9999999999999998 1.0 1.0 1.0 1.0 1.0 1.0 1.0 1.0 1.0 1.0 1.0 1.0 1.0 1.0 1.0 1.0000000000000002 1.0 1.0 0.9999999999999999 1.0 0.9999999999999999 1.0 0.9999999999999999 1.0 1.0 1.0000000000000002 1.0 1.0 1.0 0.9999999999999999 1.0 1.0 1.0 1.0 1.0 0.9999999999999999 1.0 0.9999999999999999 0.9999999999999999 1.0 1.0 1.0 0.9999999999999999 1.0 1.0 0.9999999999999999 1.0 0.9999999999999999 1.0 1.0 1.0 1.0 1.0 1.0 1.0 1.0000000000000002 1.0 1.0 1.0 1.0 1.0 1.0 1.0 1.0 1.0 1.0 1.0000000000000002 1.0 0.9999999999999999 0.9999999999999999 0.9999999999999999 0.9999999999999999 0.9999999999999999 1.0 1.0 1.0 1.0 1.0 1.0 0.9999999999999998 1.0 1.0 1.0 1.0 0.9999999999999999 1.0 0.9999999999999999 1.0 1.0 0.9999999999999999 0.9999999999999999\n",
      "0.003869 0.003869 0.003869 0.003869 0.003869 0.003869 0.003869 0.003869 0.003869 0.003869 0.003869 0.003869 0.003869 0.003869 0.003869 0.003869 0.003869 0.003869 0.003869 0.003869 0.003869 0.003869 0.003869 0.003869 0.003869 0.003869 0.003869 0.003869 0.003869 0.003869 0.003869 0.003869 0.003869 0.003869 0.003869 0.003869 0.003869 0.003869 0.003869 0.003869 0.003869 0.003869 0.003869 0.003869 0.003869 0.003869 0.003869 0.003869 0.003869 0.003869 0.003869 0.003869 0.003869 0.003869 0.003869 0.003869 0.003869 0.003869 0.003869 0.003869 0.003869 0.003869 0.003869 0.003869 0.003869 0.003869 0.003869 0.003869 0.003869 0.003869 0.003869 0.003869 0.003869 0.003869 0.003869 0.003869 0.003869 0.003869 0.003869 0.003869 0.003869 0.003869 0.003869 0.003869 0.003869 0.003869 0.003869 0.003869 0.003869 0.003869 0.003869 0.003869 0.003869 0.003869 0.003869 0.003869 0.003869 0.003869 0.003869 0.003869\n"
     ]
    }
   ],
   "source": [
    "print(punkty[0] == (1, 0))  # powinniśmy zobaczyć True\n",
    "print(*[x**2 + y**2 for x, y in punkty]) # powinno być wszędzie około 1\n",
    "print(*[f\"{(x2-x1)**2 + (y2-y1)**2:.6f}\" for (x1, y1), (x2, y2) in zip(punkty, punkty[1:])]) # powinno wszędzie być tyle samo"
   ]
  },
  {
   "cell_type": "markdown",
   "id": "3d7a18a0",
   "metadata": {},
   "source": [
    "\n",
    "<div style=\"text-align: right\"> Powodzenia!<br><i>Zespół kursu Wstęp do programowania</i></div>"
   ]
  }
 ],
 "metadata": {
  "kernelspec": {
   "display_name": "Python 3 (ipykernel)",
   "language": "python",
   "name": "python3"
  },
  "language_info": {
   "codemirror_mode": {
    "name": "ipython",
    "version": 3
   },
   "file_extension": ".py",
   "mimetype": "text/x-python",
   "name": "python",
   "nbconvert_exporter": "python",
   "pygments_lexer": "ipython3",
   "version": "3.12.4"
  }
 },
 "nbformat": 4,
 "nbformat_minor": 5
}
