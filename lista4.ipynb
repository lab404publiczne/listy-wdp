{
 "cells": [
  {
   "cell_type": "markdown",
   "id": "817cd8f2",
   "metadata": {},
   "source": [
    "# Wstęp do programowania\n",
    "## Lista 4\n",
    "\n",
    "Uzupełnij swoje dane poniżej, następnie przeczytaj treść zadań i umieść rozwiązania w odpowidenich komórkach pozostawionych w tym celu pod treścią. Pamiętaj dbać o specyfikację, czyli nazwy zmiennych oraz odpowiednie rozmieszczenie komórek. Jeśli uruchomisz wszystkie komórki, dokument powinien działać bez błędów."
   ]
  },
  {
   "cell_type": "markdown",
   "id": "76926f19",
   "metadata": {},
   "source": [
    "  * **Imię:** x\n",
    "  * **Nazwisko:** x\n",
    "  * **Numer indeksu:** x"
   ]
  },
  {
   "cell_type": "markdown",
   "id": "f179d9a1",
   "metadata": {},
   "source": [
    "W rozwiązaniach zadań możesz korzystać z biblioteki `math`."
   ]
  },
  {
   "cell_type": "code",
   "execution_count": 5,
   "id": "2ceefa09",
   "metadata": {
    "ExecuteTime": {
     "end_time": "2024-11-08T18:18:55.192150Z",
     "start_time": "2024-11-08T18:18:55.180020Z"
    }
   },
   "outputs": [],
   "source": [
    "import math"
   ]
  },
  {
   "cell_type": "markdown",
   "id": "bf98cfd0-be8e-4876-8618-ffbff6c53b40",
   "metadata": {},
   "source": [
    "### Zadanie 1\n",
    "\n",
    "Przypomnij sobie zadanie 2 podpunkt c z listy 2. Napisz funkcję, która rysuje szachownicę, na podstawie przyjmowanych jako argumenty wymiarów.\n",
    "\n",
    "Rozwiązanie umieść w komórce poniżej."
   ]
  },
  {
   "cell_type": "code",
   "execution_count": 2,
   "id": "8b918b96-8159-47a9-af2c-bf1a65ed5a87",
   "metadata": {
    "ExecuteTime": {
     "end_time": "2024-11-08T18:22:39.929263Z",
     "start_time": "2024-11-08T18:22:39.920127Z"
    }
   },
   "outputs": [],
   "source": [
    "def szachownica(w, h): # w - szerokość, h - wysokość\n",
    "    wiersz1 = \"***\"*w + \"*\\n\"\n",
    "    wiersz2 = \"*  \"*w + \"*\\n\"\n",
    "    return (wiersz1 + wiersz2)*h + wiersz1"
   ]
  },
  {
   "cell_type": "markdown",
   "id": "9d8ef4b2-5cec-45fb-8916-1076007be605",
   "metadata": {},
   "source": [
    "Przetestuj rozwiązanie na kilku wybranych przez siebie rozmiarach."
   ]
  },
  {
   "cell_type": "code",
   "execution_count": 8,
   "id": "faba4d7d-ca64-4e05-b751-7140c455ceda",
   "metadata": {
    "ExecuteTime": {
     "end_time": "2024-11-08T18:28:15.642933Z",
     "start_time": "2024-11-08T18:28:15.630273Z"
    }
   },
   "outputs": [
    {
     "name": "stdout",
     "output_type": "stream",
     "text": [
      "*******\n",
      "*  *  *\n",
      "*******\n",
      "*  *  *\n",
      "*******\n",
      "*  *  *\n",
      "*******\n",
      "\n",
      "*************\n",
      "*  *  *  *  *\n",
      "*************\n",
      "*  *  *  *  *\n",
      "*************\n",
      "\n",
      "****************\n",
      "*  *  *  *  *  *\n",
      "****************\n",
      "\n"
     ]
    }
   ],
   "source": [
    "print(szachownica(2, 3))\n",
    "print(szachownica(4, 2))\n",
    "print(szachownica(5, 1))"
   ]
  },
  {
   "cell_type": "markdown",
   "id": "e7d3ab53",
   "metadata": {},
   "source": [
    "### Zadanie 2\n",
    "\n",
    "Przypomnij sobie zadanie 4 z listy 1.\n",
    "\n",
    "#### podpunkt a\n",
    "\n",
    "Zaimplementuj funkcję `dzień_juliański(D, M, R)` zwracającą dzień juliański odpowiadający podanej dacie. Rozwiązanie umieść w komórce poniżej."
   ]
  },
  {
   "cell_type": "code",
   "execution_count": 11,
   "id": "f534f34d",
   "metadata": {
    "ExecuteTime": {
     "end_time": "2024-11-08T18:32:09.792520Z",
     "start_time": "2024-11-08T18:32:09.780597Z"
    }
   },
   "outputs": [],
   "source": [
    "def dzien_julianski(D, M, R):\n",
    "    a = math.floor((14 - M)/12)\n",
    "    y = R + 4800 - a\n",
    "    m = M + 12*a - 3\n",
    "    return D + math.floor((153*m+2)/5) + 365*y + math.floor(y/4) - math.floor(y/100) + math.floor(y/400) - 32045"
   ]
  },
  {
   "cell_type": "markdown",
   "id": "551e1ff2",
   "metadata": {},
   "source": [
    "#### podpunkt b\n",
    "\n",
    "Zaimplementuj funkcję `ile_dni(data1, data2)` obliczającą, ile dni upłynęło pomiędzy dwiema datami, gdzie daty podane są jako krotki `(D, M, R)`. Wykorzystaj funkcję zaimplementowaną w poprzednim podpunkcie. Przykładowe wywołanie\n",
    "```python\n",
    "print(ile_dni((4, 11, 2024), (6, 12, 2024)))\n",
    "```\n",
    "powinno dać w wyniku liczbę 32.\n",
    "\n",
    "Podpowiedź: użyj funkcji napisanej w podpunkcie a.\n",
    "\n",
    "Rozwiązanie umieść w komórce poniżej."
   ]
  },
  {
   "cell_type": "code",
   "execution_count": 12,
   "id": "e3c3dc93",
   "metadata": {
    "ExecuteTime": {
     "end_time": "2024-11-08T18:32:11.610423Z",
     "start_time": "2024-11-08T18:32:11.599542Z"
    }
   },
   "outputs": [
    {
     "name": "stdout",
     "output_type": "stream",
     "text": [
      "32\n"
     ]
    }
   ],
   "source": [
    "def ile_dni(data1, data2):\n",
    "    return dzien_julianski(*data2) - dzien_julianski(*data1)\n",
    "\n",
    "print(ile_dni((4, 11, 2024), (6, 12, 2024)))"
   ]
  },
  {
   "cell_type": "markdown",
   "id": "8b054896-0d50-4dec-89b0-129ce21a9874",
   "metadata": {},
   "source": [
    "#### podpunkt c\n",
    "\n",
    "Przypomnij sobie zadanie 3 z listy 3. Ponownie liczysz średnią według algorytmu ważonego, ale tym razem zamiast liczby dni w przeszłości, masz podane daty uzyskania oceny. Napisz funkcję, która oblicza średnią ocen na konkretny dzień."
   ]
  },
  {
   "cell_type": "code",
   "execution_count": 13,
   "id": "c126447b-ae8f-43cf-9b20-522f4ace97bf",
   "metadata": {
    "ExecuteTime": {
     "end_time": "2024-11-08T18:37:42.920418Z",
     "start_time": "2024-11-08T18:37:42.907279Z"
    }
   },
   "outputs": [],
   "source": [
    "def średnia(oceny, data):\n",
    "    licznik = 0\n",
    "    mianownik = 0\n",
    "    for x, d in oceny:\n",
    "        n = ile_dni(d, data)\n",
    "        mianownik += 1/(n**2)\n",
    "        licznik += x/(n**2)\n",
    "    return licznik/mianownik"
   ]
  },
  {
   "cell_type": "markdown",
   "id": "01974a73-f612-49aa-b1ea-33e4a4cfe818",
   "metadata": {},
   "source": [
    "Rozwiązanie przetestuj na ocenach poniżej, obliczając ich średnią na 8 listopada 2024."
   ]
  },
  {
   "cell_type": "code",
   "execution_count": 14,
   "id": "a68e912e-fe68-4153-b893-1f4a0243aec2",
   "metadata": {
    "ExecuteTime": {
     "end_time": "2024-11-08T18:37:45.216503Z",
     "start_time": "2024-11-08T18:37:45.195544Z"
    }
   },
   "outputs": [
    {
     "data": {
      "text/plain": [
       "4.065233792103639"
      ]
     },
     "execution_count": 14,
     "metadata": {},
     "output_type": "execute_result"
    }
   ],
   "source": [
    "oceny = [\n",
    "    (2, (6, 9, 2024)),\n",
    "    (5, (11, 9, 2024)), \n",
    "    (4.5, (25, 9, 2024)),\n",
    "    (3, (4, 10, 2024)),\n",
    "    (5.5, (22, 10, 2024)),\n",
    "    (4, (4, 11, 2024))\n",
    "]\n",
    "\n",
    "średnia(oceny, (8, 11, 2024))"
   ]
  },
  {
   "cell_type": "markdown",
   "id": "50cbdbe6",
   "metadata": {},
   "source": [
    "### Zadanie 3\n",
    "\n",
    "#### Podpunkt a\n",
    "\n",
    "Napisz funkcję `fizz_buzz(x)`, która dla liczby naturalnej `x` zwraca napis:\n",
    "\n",
    "  - \"Fizz\" dla liczb podzielnych przez 3,\n",
    "  - \"Buzz\" dla liczb podzielnych przez 5,\n",
    "  - \"Fizz Buzz\" dla liczb jednocześnie podzielnych przez 3 i 5,\n",
    "  - napis oznaczający liczbę w pozostałych przypadkach, np.: \"4\" dla `x=4`.\n",
    "\n",
    "Podpowiedź: użyj wyrażenia warunkowego, operatora reszty z dzielenia oraz operatora `or`.\n",
    "\n",
    "Rozwiązanie umieść w komórce poniżej."
   ]
  },
  {
   "cell_type": "code",
   "execution_count": 2,
   "id": "2685a83c",
   "metadata": {
    "ExecuteTime": {
     "end_time": "2024-11-08T19:36:05.972128Z",
     "start_time": "2024-11-08T19:36:05.961258Z"
    }
   },
   "outputs": [],
   "source": [
    "def fizz_buzz(x):\n",
    "    return \"Fizz Buzz\" if x % 15 == 0 else \"Buzz\" if x % 5 == 0 else \"Fizz\" if x % 3 == 0 else f\"x={x}\""
   ]
  },
  {
   "cell_type": "markdown",
   "id": "94dcb4c2",
   "metadata": {},
   "source": [
    "#### Podpunkt b\n",
    "\n",
    "Stwórz listę napisów zgodnych z opisem powyżej dla liczb naturalnych dodatnich od $1$ do $100$.\n",
    "\n",
    "Podpowiedź: skorzystaj z list składanych.\n",
    "\n",
    "Rozwiązanie umieść w komórce poniżej."
   ]
  },
  {
   "cell_type": "code",
   "execution_count": 3,
   "id": "69144a42",
   "metadata": {},
   "outputs": [
    {
     "name": "stdout",
     "output_type": "stream",
     "text": [
      "['x=1', 'x=2', 'Fizz', 'x=4', 'Buzz', 'Fizz', 'x=7', 'x=8', 'Fizz', 'Buzz', 'x=11', 'Fizz', 'x=13', 'x=14', 'Fizz Buzz', 'x=16', 'x=17', 'Fizz', 'x=19', 'Buzz', 'Fizz', 'x=22', 'x=23', 'Fizz', 'Buzz', 'x=26', 'Fizz', 'x=28', 'x=29', 'Fizz Buzz', 'x=31', 'x=32', 'Fizz', 'x=34', 'Buzz', 'Fizz', 'x=37', 'x=38', 'Fizz', 'Buzz', 'x=41', 'Fizz', 'x=43', 'x=44', 'Fizz Buzz', 'x=46', 'x=47', 'Fizz', 'x=49', 'Buzz', 'Fizz', 'x=52', 'x=53', 'Fizz', 'Buzz', 'x=56', 'Fizz', 'x=58', 'x=59', 'Fizz Buzz', 'x=61', 'x=62', 'Fizz', 'x=64', 'Buzz', 'Fizz', 'x=67', 'x=68', 'Fizz', 'Buzz', 'x=71', 'Fizz', 'x=73', 'x=74', 'Fizz Buzz', 'x=76', 'x=77', 'Fizz', 'x=79', 'Buzz', 'Fizz', 'x=82', 'x=83', 'Fizz', 'Buzz', 'x=86', 'Fizz', 'x=88', 'x=89', 'Fizz Buzz', 'x=91', 'x=92', 'Fizz', 'x=94', 'Buzz', 'Fizz', 'x=97', 'x=98', 'Fizz', 'Buzz']\n"
     ]
    }
   ],
   "source": [
    "print([fizz_buzz(i) for i in range(1, 101)])"
   ]
  },
  {
   "cell_type": "markdown",
   "id": "87e972a7",
   "metadata": {},
   "source": [
    "### Zadanie 4\n",
    "\n",
    "Naszym celem jest napisanie programu, który sortuje punkty na płaszczyźnie względem ich odległości od prostej $y=x$. Chcemy, aby najpierw w liście znalazły się punkty najbliżej prostej, na końcu punkty najdalej od prostej. Jeśli lubisz geometrię i chcesz sam zmierzyć się z tym problemem, możesz przejść do podpunktu a zadania. Jeśli nie chcecsz lub nie udało się go znaleźć, możesz kontynuować opis.\n",
    "\n",
    "Ponieważ prosta $y=x$ jest nachylona do osi OX pod kątem $45^\\circ$, licząc odległość punktu $A = (a, b)$ od prostej, musimy wyznaczyć prostą prostopadłą do $y=x$ przechodzącą przez punkt $A$. Jej równanie będzie postaci $y=-x+c$ dla pewnego $c$. Podstawiając współrzędne $(a, b)$ punktu $A$ do równania $y=-x+c$ otrzymujemy $b = -a+c$, czyli $c=a+b$. Oznacza to, że prosta prostopadła do $y=x$ przechodząca przez punkt $A=(a, b)$ ma równanie $y=-x+(a+b)$. Aby znaleźć punkt przecięcia prostych, rozwiązujemy układ równań\n",
    "$$\\begin{cases} y = x,\\\\ y=-x+(a+b).\\end{cases}$$\n",
    "Rozwiązaniem układu równań jest punkt $P=(x_P, y_P) = \\left(\\frac{a+b}{2},\\frac{a+b}{2}\\right)$. Odległość pomiędzy punktami jest równa\n",
    "$$ \\begin{split}d(A, P) &= \\sqrt{(a-x_P)^2 + (b-y_P)^2} = \\sqrt{\\left(a-\\frac{a+b}{2}\\right)^2 + \\left(b-\\frac{a+b}{2}\\right)^2} \\\\&= \\sqrt{\\left(\\frac{a-b}{2}\\right)^2 + \\left(\\frac{b-a}{2}\\right)^2}= \\sqrt{2\\cdot \\left(\\frac{a-b}{2}\\right)^2 } = \\frac{|a-b|}{\\sqrt{2}}.\\end{split}$$\n",
    "Ponieważ sortujemy, stała nie gra roli, zatem punkt $A=(a, b)$ położony najdalej od prostej $y=x$ to ten, dla którego największa jest wartość $|a-b|$. Podobnie, najbliżej prostej $y=x$ leży ten punkt, dla którego moduł różnicy współrzędnych jest najmniejszy. W szczególności, jeśli $|a-b|=0$, punkt leży na prostej.\n",
    "\n",
    "#### podpunkt a\n",
    "\n",
    "Przypomnij sobie materiał o funkcji `sorted` i metodzie `sort` z wykładu oraz o krotkach. Ponieważ sortowanie domyślnie odbywa się w porządku rosnącym, a krotki porządkowane są leksykograficznie, czyli ich sortowanie odbywa się najpierw po pierwszej współrzędnej, jednym z pomysłów na rozwiązanie postawionego problemu jest dla listy punktów\n",
    "$$[A_1, A_2, A_3, \\ldots, A_n],$$\n",
    "stworzenie listy\n",
    "$$[(d_1, A_1), (d_2, A_2), (d_3, A_3), \\ldots, (d_n, A_n)],$$\n",
    "gdzie $d_i$ jest proporcjonalne do odległości punktu $A_i$ od prostej $y=x$. Następnie taką listę będziemy mogli posortować. Pierwszy jej element będzie postaci $(d_k, A_k)$, gdzie $d_k$ będzie najmniejszą odległością a $A_k$ będzie punktem najbliżej prostej $y=x$.\n",
    "\n",
    "Zaimplementuj ten pomysł wstawiając fragmenty kodu w miejsca wielokropków. Postaraj się nie modyfikować innych fragmentów funkcji."
   ]
  },
  {
   "cell_type": "code",
   "execution_count": 9,
   "id": "e0cae480",
   "metadata": {
    "ExecuteTime": {
     "end_time": "2024-11-08T18:44:40.749866Z",
     "start_time": "2024-11-08T18:44:40.735618Z"
    }
   },
   "outputs": [],
   "source": [
    "def sortuj_punkty(punkty):\n",
    "    # przygotuj listę punktów z odległością\n",
    "    punkty_dist = [((a, b), abs(a-b)) for a, b in punkty]\n",
    "    # posortuj punkty w miejscu, bez tworzenia dodatkowej listy\n",
    "    punkty_dist.sort(key=lambda k: k[1])\n",
    "    # zwróć same punkty bez odległości\n",
    "    return [punkt for punkt, _ in punkty_dist]"
   ]
  },
  {
   "cell_type": "markdown",
   "id": "6947f0a2-f27c-42b8-851d-85ab6b633577",
   "metadata": {},
   "source": [
    "#### podpunkt b\n",
    "Wymyśl 3 przykłady użycia pozwalające sprawdzić, że dobrze zaimplementowałeś sortowanie."
   ]
  },
  {
   "cell_type": "code",
   "execution_count": 15,
   "id": "3b7f9e0c-36eb-4e15-a589-c2c44cc7eb4c",
   "metadata": {},
   "outputs": [
    {
     "name": "stdout",
     "output_type": "stream",
     "text": [
      "[(3, 7), (3, -1), (-48, -41), (23, 0), (1, 39)]\n"
     ]
    }
   ],
   "source": [
    "punkty1 = [(3,7),(1,39),(23,0),(-48,-41),(3,-1)]\n",
    "wynik1 = sortuj_punkty(punkty1)\n",
    "print(wynik1)"
   ]
  },
  {
   "cell_type": "code",
   "execution_count": 16,
   "id": "302e52d1-06ec-45be-9d07-7d12fa83428d",
   "metadata": {},
   "outputs": [
    {
     "name": "stdout",
     "output_type": "stream",
     "text": [
      "[(0.123, 0.334), (0.23, -0.42), (0.2, 15.4), (-2.333, -100)]\n"
     ]
    }
   ],
   "source": [
    "punkty2 = [(0.123,0.334),(0.23,-0.42),(0.2,15.4),(-2.333,-100)]\n",
    "wynik2 = sortuj_punkty(punkty2)\n",
    "print(wynik2)"
   ]
  },
  {
   "cell_type": "code",
   "execution_count": 18,
   "id": "278e5280-03d2-4d6f-ae36-9c9b5dd2874e",
   "metadata": {},
   "outputs": [
    {
     "name": "stdout",
     "output_type": "stream",
     "text": [
      "[(3.141592653589793, 2.718281828459045), (3.141592653589793, -3.141592653589793), (6.283185307179586, -2.718281828459045)]\n"
     ]
    }
   ],
   "source": [
    "punkty3 = [(2*math.pi, -math.e),(math.pi, -math.pi),(math.pi,math.e)]\n",
    "wynik3 = sortuj_punkty(punkty3)\n",
    "print(wynik3)"
   ]
  },
  {
   "cell_type": "markdown",
   "id": "9938790c",
   "metadata": {},
   "source": [
    "### Zadanie 5\n",
    "\n",
    "Baza danych w pewnej fikcyjnej szkole przechowywana jest za pomocą struktur danych Pythona. Oceny całej klasy reprezentowane są jako słownik, którego kluczami są uczniowie (napisy z imieniem i nazwiskiem) a wartościami słowniki reprezentujące oceny ucznia. Każdy słownik przedstawiający oceny ucznia ma nazwę przedmiotu jako klucz i listę ocen jako wartość. Oceny zapisane są jako liczby. Fragment przykładowych danych, to\n",
    "```python\n",
    "klasa1h = {\n",
    "    'Hipolit Hipopotamowicz': {\n",
    "        'język polski': [3, 3, 4],\n",
    "        'matematyka': [1, 2, 1, 3, 1],\n",
    "        ...\n",
    "    }, \n",
    "    ...\n",
    "}\n",
    "```\n",
    "#### podpunkt a\n",
    "W szkole uznaje się, że uczeń jest zagrożony z przedmiotu, jeśli jego średnia ocen z danego przedmiotu jest poniżej 2. Napisz funkcję `zagrożenia(klasa)`, która dla klasy reprezentowanej jak poniżej zwróci informację o zagrożeniach jako słownik, którego kluczami będą uczniowie (napisy z imieniem i nazwiskiem) a wartością listy przedmiotów, z których uczeń ma zagrożenie. Przykład użycia\n",
    "```python\n",
    "print(zagrożenia(klasa1h))\n",
    "```\n",
    "da w wyniku między innymi\n",
    "```python\n",
    "{\n",
    "    'Hipolit Hipopotamowicz': ['matematyka'],\n",
    "    ...\n",
    "}\n",
    "```\n",
    "Rozwiązanie umieść w komórce poniżej."
   ]
  },
  {
   "cell_type": "code",
   "execution_count": 47,
   "id": "d4d1c3f3",
   "metadata": {
    "ExecuteTime": {
     "end_time": "2024-11-08T19:33:09.815198Z",
     "start_time": "2024-11-08T19:33:09.797954Z"
    }
   },
   "outputs": [
    {
     "data": {
      "text/plain": [
       "{'Mateusz': [],\n",
       " 'Igor': ['matematyka', 'angielski'],\n",
       " 'Paweł': ['polski'],\n",
       " 'Krzesław': ['matematyka', 'chemia']}"
      ]
     },
     "execution_count": 47,
     "metadata": {},
     "output_type": "execute_result"
    }
   ],
   "source": [
    "klasaftg={\"Mateusz\":{\"polski\":[4,5,4,3], \"matemetyka\":[2,3,3,5], \"angielski\":[3,5,2]},\n",
    "       \"Igor\":{\"polski\":[6,5,6], \"matematyka\":[1,2,1,1], \"angielski\":[2,1,2,2]},\n",
    "       \"Paweł\": {\"polski\":[2,2,1,1], \"matematyka\":[2,3,2], \"angielski\":[4,3,5,3]},\n",
    "       \"Krzesław\": {\"matematyka\":[1,1,1,1], \"chemia\":[1,1,1]}}\n",
    "\n",
    "def zagrożenia(klasa):\n",
    "    return {uczeń: [przedmiot for przedmiot, oceny in przedmioty.items() if sum(oceny)/len(oceny) < 2] for uczeń, przedmioty in klasa.items()}\n",
    "zagrożenia(klasaftg)"
   ]
  },
  {
   "cell_type": "markdown",
   "id": "4ff63f58-b95b-4118-b0c0-496f7dd81044",
   "metadata": {},
   "source": [
    "#### podpunkt b\n",
    "Napisz funkcję `procent_zagrożonych(klasa)`, która zwróci procent osób mających choć jedno zagrożenie jako liczbę zmiennoprzecinkową z przedziału od $0$ do $100$. Rozwiązanie umieść w komórce poniżej."
   ]
  },
  {
   "cell_type": "code",
   "execution_count": 48,
   "id": "11270a51-0a3a-417d-a5a5-4768560fd72f",
   "metadata": {
    "ExecuteTime": {
     "end_time": "2024-11-08T19:33:28.282075Z",
     "start_time": "2024-11-08T19:33:28.271996Z"
    }
   },
   "outputs": [
    {
     "name": "stdout",
     "output_type": "stream",
     "text": [
      "75.00%\n"
     ]
    }
   ],
   "source": [
    "def procent_zagrożonych(klasa):\n",
    "    zagrożeni = len([uczeń for uczeń, przedmioty in zagrożenia(klasa).items() if przedmioty])\n",
    "    return zagrożeni/len(klasa)\n",
    "\n",
    "print(f\"{procent_zagrożonych(klasaftg)*100:.2f}%\")"
   ]
  },
  {
   "cell_type": "markdown",
   "id": "d28424b3-4e38-4ed0-b081-e540e9950624",
   "metadata": {},
   "source": [
    "#### podpunkt c\n",
    "Napisz funkcję `osły_dardanelskie(klasa)`, która zwróci listę uczniów mających ex æquo najwięcej zagrożeń. Rozwiązanie umieść w komórce poniżej."
   ]
  },
  {
   "cell_type": "code",
   "execution_count": 49,
   "id": "7fd6724a-e5f8-423d-9e3e-b8130c3ddc5f",
   "metadata": {
    "ExecuteTime": {
     "end_time": "2024-11-08T19:33:33.458960Z",
     "start_time": "2024-11-08T19:33:33.446930Z"
    }
   },
   "outputs": [
    {
     "data": {
      "text/plain": [
       "['Igor', 'Krzesław']"
      ]
     },
     "execution_count": 49,
     "metadata": {},
     "output_type": "execute_result"
    }
   ],
   "source": [
    "def osły_dardanelskie(klasa):\n",
    "    zagrożeni = {uczeń: len(przedmioty) for uczeń, przedmioty in zagrożenia(klasa).items()}\n",
    "    return [uczeń for uczeń, ilosc in zagrożeni.items() if ilosc == max(zagrożeni.values())]\n",
    "\n",
    "osły_dardanelskie(klasaftg)"
   ]
  },
  {
   "cell_type": "markdown",
   "id": "73e32195",
   "metadata": {},
   "source": [
    "### Zadanie 6\n",
    "\n",
    "$n$-wymiarowa hiperkula o promieniu $r > 0$ i środku $S = (0, \\ldots, 0) \\in \\mathbb{R}^n$, to podzbiór $K_n(r)$ przestrzeni $\\mathbb{R}^n$ zdefiniowany następująco\n",
    "$$K_n(r) = \\left\\{x = (x_1, \\ldots, x_n) \\in \\mathbb{R}^n: \\sum_{i=1}^n x_i^2 < r^2 \\right\\}.$$\n",
    "Można pokazać, że objętość hiperkuli wynosi\n",
    "$$V_n(r) = \\frac{\\pi^{\\frac{n}{2}}}{\\Gamma\\left(\\frac{n}{2}+1\\right)}R^n,$$\n",
    "gdzie $\\Gamma$ to funkcja gamma Eulera zdefiniowana jako\n",
    "$$\\Gamma(x) = \\int_0^\\infty t^{x-1} e^{-t} \\,\\mathrm{d}t.$$\n",
    "\n",
    "#### podpunkt a\n",
    "\n",
    "Napisz funkcję `hiperkula(r, n)` obliczającą objętość $n$ wymiarowej hiperkuli o promieniu $r$. Korzystając z tej funkcji, wyznacz objętości kuli dla $r=1$ oraz $n=1, \\ldots, 10$. \n",
    "\n",
    "Podpowiedź: funkcję gamma Eulera znajdziesz w module `math`.\n",
    "\n",
    "Rozwiązanie umieść poniżej."
   ]
  },
  {
   "cell_type": "code",
   "execution_count": 31,
   "id": "60e563f3",
   "metadata": {},
   "outputs": [
    {
     "name": "stdout",
     "output_type": "stream",
     "text": [
      " 1 wymiarów: 2.00\n",
      " 2 wymiarów: 3.14\n",
      " 3 wymiarów: 4.19\n",
      " 4 wymiarów: 4.93\n",
      " 5 wymiarów: 5.26\n",
      " 6 wymiarów: 5.17\n",
      " 7 wymiarów: 4.72\n",
      " 8 wymiarów: 4.06\n",
      " 9 wymiarów: 3.30\n",
      "10 wymiarów: 2.55\n"
     ]
    }
   ],
   "source": [
    "def hiperkula(r, n):\n",
    "    return (math.pi**(n/2)/math.gamma(n/2+1))*(r**n)\n",
    "\n",
    "for n in range(1, 11):\n",
    "    print(f\"{n:>2} wymiarów: {hiperkula(1, n):.2f}\")"
   ]
  },
  {
   "cell_type": "markdown",
   "id": "207d2a60",
   "metadata": {},
   "source": [
    "#### podpunkt b\n",
    "\n",
    "Dla jakiej liczby wymiarów objętość hiperkuli o promieniu jeden jest największa?\n",
    "\n",
    "Podpowiedź: Załóżmy, że szukamy $n \\in \\{0, \\ldots, 99\\}$ minimalizującego wartość pewnej funkcji $f(n)$. Rozważ poniższy kod --- jak myślisz, wybranie minimum z listy par zadziała tak, jak tego oczekujemy?\n",
    "```python\n",
    "pary = {(f(n), n) for n in range(100)}\n",
    "min(pary)\n",
    "```\n",
    "\n",
    "Rozwiązanie umieść w komórce poniżej."
   ]
  },
  {
   "cell_type": "code",
   "execution_count": 27,
   "id": "64b58990",
   "metadata": {},
   "outputs": [
    {
     "name": "stdout",
     "output_type": "stream",
     "text": [
      "Dla 5 wymiarów (5.26)\n"
     ]
    }
   ],
   "source": [
    "pary = {(hiperkula(1, n), n) for n in range(100)}\n",
    "objetosc, wymiary = max(pary, key=lambda k: k[0])\n",
    "print(f\"Dla {wymiary} wymiarów ({objetosc:.2f})\")"
   ]
  },
  {
   "cell_type": "markdown",
   "id": "3d7a18a0",
   "metadata": {},
   "source": [
    "\n",
    "<div style=\"text-align: right\"> Powodzenia!<br><i>Zespół kursu Wstęp do programowania</i></div>"
   ]
  }
 ],
 "metadata": {
  "kernelspec": {
   "display_name": "Python 3 (ipykernel)",
   "language": "python",
   "name": "python3"
  },
  "language_info": {
   "codemirror_mode": {
    "name": "ipython",
    "version": 3
   },
   "file_extension": ".py",
   "mimetype": "text/x-python",
   "name": "python",
   "nbconvert_exporter": "python",
   "pygments_lexer": "ipython3",
   "version": "3.12.4"
  }
 },
 "nbformat": 4,
 "nbformat_minor": 5
}
