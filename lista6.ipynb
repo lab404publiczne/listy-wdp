{
 "cells": [
  {
   "cell_type": "markdown",
   "id": "817cd8f2",
   "metadata": {},
   "source": [
    "# Wstęp do programowania\n",
    "## Lista 6\n",
    "\n",
    "Uzupełnij swoje dane poniżej, następnie przeczytaj treść zadań i umieść rozwiązania w odpowidenich komórkach pozostawionych w tym celu pod treścią. Pamiętaj dbać o specyfikację, czyli nazwy zmiennych oraz odpowiednie rozmieszczenie komórek. Jeśli uruchomisz wszystkie komórki, dokument powinien działać bez błędów."
   ]
  },
  {
   "cell_type": "markdown",
   "id": "76926f19",
   "metadata": {},
   "source": [
    "  * **Imię:** ...\n",
    "  * **Nazwisko:** ...\n",
    "  * **Numer indeksu:** ..."
   ]
  },
  {
   "cell_type": "markdown",
   "id": "f179d9a1",
   "metadata": {},
   "source": [
    "W rozwiązaniach zadań możesz korzystać z wielu bibliotek. Do obliczeń `math`, `numpy` oraz `sympy`. Do wizualizacji `matplotlib.pyplot` oraz `ipywidgets`. Testy możesz wykonywać za pomocą modułów `unittest` oraz `doctest`."
   ]
  },
  {
   "cell_type": "code",
   "execution_count": 3,
   "id": "2ceefa09",
   "metadata": {
    "editable": true,
    "slideshow": {
     "slide_type": ""
    },
    "tags": []
   },
   "outputs": [],
   "source": [
    "import math\n",
    "import unittest\n",
    "import doctest\n",
    "import numpy as np\n",
    "import sympy as sp\n",
    "import matplotlib.pyplot as plt\n",
    "import ipywidgets as widgets\n",
    "from ipywidgets import interact\n",
    "from hypothesis import given, strategies as st"
   ]
  },
  {
   "cell_type": "markdown",
   "id": "1a39d3f3",
   "metadata": {},
   "source": [
    "### Zadanie 1\n",
    "\n",
    "Przypomnij sobie zadanie o spirali archimedejskiej (zadanie 3 z listy 5).\n",
    "\n",
    "Spróbuj stworzyć interaktywny interfejs do wizualizacji tego, jak wybrane parametry wpływają na kształt spirali.\n",
    "\n",
    "Rozwiązanie umieść w komórce poniżej."
   ]
  },
  {
   "cell_type": "code",
   "execution_count": 35,
   "id": "4076f649",
   "metadata": {},
   "outputs": [
    {
     "data": {
      "application/vnd.jupyter.widget-view+json": {
       "model_id": "779be697e6384151aa5a061e90868bf1",
       "version_major": 2,
       "version_minor": 0
      },
      "text/plain": [
       "interactive(children=(FloatSlider(value=1.0, description='a', max=8.0, min=0.1), FloatSlider(value=1.0, descri…"
      ]
     },
     "metadata": {},
     "output_type": "display_data"
    }
   ],
   "source": [
    "@interact(a=(0.1, 8.0), n=(0.1, 4.0))\n",
    "def rysuj(a=1, n=1):\n",
    "    theta = np.linspace(0, 2*math.pi, 100)\n",
    "    r = a*theta**(1/n)\n",
    "    \n",
    "    wykres = plt.subplot(111, projection='polar')\n",
    "    wykres.plot(theta, r, color='r', linewidth=3)\n",
    "    wykres.set_rmax(a*(2*math.pi)**(1/n)*1.05)\n",
    "    wykres.grid(True)"
   ]
  },
  {
   "cell_type": "markdown",
   "id": "c9490bc8",
   "metadata": {},
   "source": [
    "### Zadanie 2\n",
    "\n",
    "Zaprojektuj testy jednostkowe sprawdzające, że funkcja `max` z Pythona działa dobrze dla list liczb całkowitych i zmiennoprzecinkowych bez `NaN`. Napisz przynajmniej 3 testy za pomocą modułu `unittest`. Kod testów umieść w komórce poniżej."
   ]
  },
  {
   "cell_type": "code",
   "execution_count": null,
   "id": "eb82466d-97e1-4703-b86a-9c6d56f88988",
   "metadata": {},
   "outputs": [],
   "source": []
  },
  {
   "cell_type": "markdown",
   "id": "0793e0ae-cd83-44d6-bc01-72da6dbcd0ce",
   "metadata": {},
   "source": [
    "Uruchomienie testów umieść w komórce poniżej."
   ]
  },
  {
   "cell_type": "code",
   "execution_count": null,
   "id": "4e8cd72f-46e7-4508-92d2-c0ddd03fef5e",
   "metadata": {},
   "outputs": [],
   "source": []
  },
  {
   "attachments": {},
   "cell_type": "markdown",
   "id": "3c1b52a8",
   "metadata": {},
   "source": [
    "### Zadanie 3\n",
    "\n",
    "Przypomnij sobie zadanie o funkcjach do liczenia liczby dni pomiędzy datami (zadanie 2 lista 4). Rozbuduj funkcje `ile_dni` oraz `dzień_juliański` tak, aby zgłaszały odpowiednie wyjątki, gdy użytkownik ich źle użyje.\n",
    "\n",
    "Kod umieść w komórce poniżej."
   ]
  },
  {
   "cell_type": "code",
   "execution_count": null,
   "id": "f4281b8c",
   "metadata": {},
   "outputs": [],
   "source": []
  },
  {
   "cell_type": "markdown",
   "id": "73e32195",
   "metadata": {},
   "source": [
    "### Zadanie 4\n",
    "\n",
    "Przypomnij sobie funkcję do wyliczania objętości hiperkuli (zadanie 6 lista 4). Dodaj do niej dokumentację opisującą użycie funkcji oraz przykładowe testy, które sprawdzisz modułem `doctest`.\n",
    "\n",
    "Rozwiązanie umieść w komórce poniżej."
   ]
  },
  {
   "cell_type": "code",
   "execution_count": null,
   "id": "9f2e7d0a",
   "metadata": {},
   "outputs": [],
   "source": []
  },
  {
   "cell_type": "markdown",
   "id": "4312e388-11ae-42ec-90d7-d454f4a74427",
   "metadata": {},
   "source": [
    "Uruchom opracowane testy, aby sprawdzić, czy dobrze działają."
   ]
  },
  {
   "cell_type": "code",
   "execution_count": null,
   "id": "f6866964-164c-4f25-8f52-cf41cdf0ef33",
   "metadata": {},
   "outputs": [],
   "source": []
  },
  {
   "cell_type": "markdown",
   "id": "7efa91a8",
   "metadata": {},
   "source": [
    "### Zadanie 5\n",
    "\n",
    "Wybierz dowolne zadanie z kursu Analiza matematyczna, spróbuj je rozwiązać za pomocą biblioteki SymPy.\n",
    "\n",
    "Treść zadania umieść w komórce tekstowej poniżej, zadbaj o formatowanie tekstu oraz wzorów."
   ]
  },
  {
   "cell_type": "markdown",
   "id": "677754f5-b1b4-4664-836a-f7a22e38cd3a",
   "metadata": {},
   "source": [
    "Oblicz granicę:\n",
    "$\\displaystyle \\lim_{n \\to \\infty}(n^2 - n)$"
   ]
  },
  {
   "cell_type": "markdown",
   "id": "57e035bd",
   "metadata": {},
   "source": [
    "Rozwiązanie wybranego zadania umieść w komórce poniżej."
   ]
  },
  {
   "cell_type": "code",
   "execution_count": 76,
   "id": "767b23c8",
   "metadata": {},
   "outputs": [
    {
     "data": {
      "text/latex": [
       "$\\displaystyle \\infty$"
      ],
      "text/plain": [
       "oo"
      ]
     },
     "execution_count": 76,
     "metadata": {},
     "output_type": "execute_result"
    }
   ],
   "source": [
    "n = sp.Symbol('n', real=True, positive=True)\n",
    "\n",
    "sp.limit(n**2 - n, n, sp.oo)"
   ]
  },
  {
   "cell_type": "markdown",
   "id": "981b6942-e52f-4d08-9eb8-a3b584e0f858",
   "metadata": {},
   "source": [
    "### Zadanie 6\n",
    "\n",
    "Przypomnij sobie zadanie 2 z listy 1, dotyczące opłacalności zakupu pizzy na kawałki, następnie posiłkując się dokumentacją, przeanalizuj kod poniżej."
   ]
  },
  {
   "cell_type": "code",
   "execution_count": 59,
   "id": "97e7f4bb-8070-41f5-a3b0-3d4fc9efead1",
   "metadata": {},
   "outputs": [
    {
     "data": {
      "application/vnd.jupyter.widget-view+json": {
       "model_id": "53079c5487e54f9a97e3325a44a38a65",
       "version_major": 2,
       "version_minor": 0
      },
      "text/plain": [
       "VBox(children=(GridBox(children=(ToggleButtons(description='Pizza: ', options=('Okrągła', 'Prostokątna'), valu…"
      ]
     },
     "execution_count": 59,
     "metadata": {},
     "output_type": "execute_result"
    }
   ],
   "source": [
    "items = [\n",
    "    toggle := widgets.ToggleButtons(options=['Okrągła', 'Prostokątna'], description='Pizza: '),\n",
    "    widgets.VBox([label1 := widgets.Label(value=\"Promień (cm): \"), val1 := widgets.FloatSlider()]),\n",
    "    widgets.VBox([label2 := widgets.Label(value=\"Kąt (stopnie): \"), val2 := widgets.FloatSlider()]),\n",
    "]\n",
    "\n",
    "def update1(change):\n",
    "    if change.new==\"Okrągła\":\n",
    "        label1.value = \"Promień (cm): \"\n",
    "    else:\n",
    "        label1.value = \"Szerokość (cm): \"\n",
    "\n",
    "def update2(change):\n",
    "    if change.new==\"Okrągła\":\n",
    "        label2.value = \"Kąt (stopnie): \"\n",
    "    else:\n",
    "        label2.value = \"Wysokość (cm): \"\n",
    "\n",
    "toggle.observe(update1, names='value')\n",
    "toggle.observe(update2, names='value')\n",
    "\n",
    "def refresh_output(shape, par1, par2):\n",
    "    print(\"Pizza\", shape, \"» Pole =\", float(par1)*float(par2) if shape==\"Prostokątna\" else math.pi*float(par1)**2*float(par2)/360)\n",
    "        \n",
    "widgets.VBox([\n",
    "    widgets.GridBox(items, layout=widgets.Layout(grid_template_columns=\"repeat(3, 350px)\")),\n",
    "    widgets.interactive_output(refresh_output, {'shape': toggle, 'par1': val1, 'par2': val2})\n",
    "])"
   ]
  },
  {
   "cell_type": "markdown",
   "id": "d04917bf-83c8-4a9f-9016-17768444cf69",
   "metadata": {},
   "source": [
    "Zaproponuj interaktywny Interfejs, w którym można wprowadzić rodzaj, cenę oraz rozmiar trzech kawałków pizzy, po czym obliczona zostanie opłacalność każdej z możliwości. Wykonaj też ilustrację każdej z trzech opcji, zamalowując odpowiednie kawałki figur i zachowując skalę, aby można było porównać kawałki wizualnie. Zadbaj o lepszy rodzaj pól do wprowadzania kawałków pizzy, mając na uwadze na przykład, że kąt może przyjmować wartości od 0 do 360 stopni.\n",
    "\n",
    "Rozwiązanie umieść w komórce poniżej."
   ]
  },
  {
   "cell_type": "code",
   "execution_count": 203,
   "id": "05f76632-f2c5-43ce-ab9b-557ef929e87c",
   "metadata": {},
   "outputs": [
    {
     "data": {
      "application/vnd.jupyter.widget-view+json": {
       "model_id": "f65c6d589c554ef78cde88cec5f6b281",
       "version_major": 2,
       "version_minor": 0
      },
      "text/plain": [
       "VBox(children=(GridBox(children=(ToggleButtons(description='Pizza nr 1: ', options=('Okrągła', 'Prostokątna'),…"
      ]
     },
     "execution_count": 203,
     "metadata": {},
     "output_type": "execute_result"
    }
   ],
   "source": [
    "# plt.figure(figsize=(6, 6))\n",
    "\n",
    "items = []\n",
    "for i in range(3):\n",
    "    items += eval(\n",
    "f'''\n",
    "\n",
    "[\n",
    "    toggle_{i} := widgets.ToggleButtons(options=[\"Okrągła\", \"Prostokątna\"], description='Pizza nr {i+1}: '),\n",
    "    widgets.VBox([label1_{i} := widgets.Label(value=\"Promień (cm): \"), val1_{i} := widgets.FloatSlider(min=0.5, max=50, step=0.5, value=10)]),\n",
    "    widgets.VBox([label2_{i} := widgets.Label(value=\"Kąt (stopnie): \"), val2_{i} := widgets.FloatSlider(min=0.5, max=360, step=0.5, value=10)]),\n",
    "    widgets.VBox([widgets.Label(value=\"Cena za kawałek (zł): \"), val3_{i} := widgets.FloatSlider(min=0.1, max=100, step=0.1, value=10)]),\n",
    "]\n",
    "\n",
    "'''.strip())\n",
    "\n",
    "zmienne = []\n",
    "for i in range(3):\n",
    "    zmienne += eval(f'[(\"shape_{i}\", toggle_{i}), (\"par1_{i}\", val1_{i}), (\"par2_{i}\", val2_{i}), (\"cena_{i}\", val3_{i})]')\n",
    "zmienne = dict(zmienne)\n",
    "\n",
    "def refresh_output(**kwargs):\n",
    "    pizze = [\n",
    "        {\"shape\": kwargs[\"shape_0\"], \"par1\": kwargs[\"par1_0\"], \"par2\": kwargs[\"par2_0\"], \"cena\": kwargs[\"cena_0\"]},\n",
    "        {\"shape\": kwargs[\"shape_1\"], \"par1\": kwargs[\"par1_1\"], \"par2\": kwargs[\"par2_1\"], \"cena\": kwargs[\"cena_1\"]},\n",
    "        {\"shape\": kwargs[\"shape_2\"], \"par1\": kwargs[\"par1_2\"], \"par2\": kwargs[\"par2_2\"], \"cena\": kwargs[\"cena_2\"]},\n",
    "    ]\n",
    "    pola = []\n",
    "    ceny_cm2 = []\n",
    "    for i, j in enumerate(pizze):\n",
    "        shape, par1, par2, cena = j[\"shape\"], j[\"par1\"], j[\"par2\"], j[\"cena\"]\n",
    "        exec(\n",
    "f'''\n",
    "\n",
    "if shape==\"Okrągła\":\n",
    "    label1_{i}.value = \"Promień (cm): \"\n",
    "    label2_{i}.value = \"Kąt (stopnie): \"\n",
    "    val2_{i}.max = 360\n",
    "else:\n",
    "    label1_{i}.value = \"Szerokość (cm): \"\n",
    "    label2_{i}.value = \"Wysokość (cm): \"\n",
    "    val2_{i}.max = 50\n",
    "\n",
    "'''.strip())\n",
    "        shape, par1, par2, cena = j[\"shape\"], j[\"par1\"], j[\"par2\"], j[\"cena\"]\n",
    "        pole = float(par1)*float(par2) if shape==\"Prostokątna\" else math.pi*float(par1)**2*float(par2)/360\n",
    "        cena_za_cm2 = cena/pole\n",
    "        print(f\"Pizza {i+1}: {pole:.2f}cm2, {cena_za_cm2:.2f}zł/cm2\")\n",
    "        if pizze[i][\"shape\"] == \"Prostokątna\":\n",
    "            x = np.array([-.5, .5, .5, -.5, -.5]) * pizze[i][\"par1\"]\n",
    "            y = np.array([-.5, -.5, .5, .5, -.5]) * pizze[i][\"par2\"]\n",
    "        \n",
    "        else:\n",
    "            theta = np.linspace(0, np.radians(par2), 100)\n",
    "            x = par1 * np.cos(theta)\n",
    "            y = par1 * np.sin(theta)\n",
    "            x = np.append(x, 0)\n",
    "            y = np.append(y, 0)\n",
    "        plt.fill(x, y, alpha=0.5, linewidth=2)\n",
    "    ax = plt.gca()\n",
    "    ax.set_aspect('equal', adjustable='box')\n",
    "\n",
    "widgets.VBox([\n",
    "    widgets.GridBox(items, layout=widgets.Layout(grid_template_columns=\"185px 305px 305px 305px\")),\n",
    "    widgets.interactive_output(refresh_output, zmienne)\n",
    "])"
   ]
  },
  {
   "cell_type": "markdown",
   "id": "3d7a18a0",
   "metadata": {},
   "source": [
    "<div style=\"text-align: right\"> Powodzenia!<br><i>Zespół kursu Wstęp do programowania</i></div>"
   ]
  }
 ],
 "metadata": {
  "kernelspec": {
   "display_name": "Python 3 (ipykernel)",
   "language": "python",
   "name": "python3"
  },
  "language_info": {
   "codemirror_mode": {
    "name": "ipython",
    "version": 3
   },
   "file_extension": ".py",
   "mimetype": "text/x-python",
   "name": "python",
   "nbconvert_exporter": "python",
   "pygments_lexer": "ipython3",
   "version": "3.12.3"
  }
 },
 "nbformat": 4,
 "nbformat_minor": 5
}
