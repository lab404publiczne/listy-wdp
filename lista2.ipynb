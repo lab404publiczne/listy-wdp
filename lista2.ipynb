{
 "cells": [
  {
   "cell_type": "markdown",
   "id": "817cd8f2",
   "metadata": {},
   "source": [
    "# Wstęp do programowania\n",
    "\n",
    "## Lista 2\n",
    "\n",
    "Uzupełnij swoje dane poniżej, następnie przeczytaj treść zadań i umieść rozwiązania w odpowidenich komórkach pozostawionych w tym celu pod treścią. Pamiętaj dbać o specyfikację, czyli nazwy zmiennych oraz odpowiednie rozmieszczenie komórek. Jeśli uruchomisz wszystkie komórki, dokument powinien działać bez błędów."
   ]
  },
  {
   "cell_type": "markdown",
   "id": "76926f19",
   "metadata": {},
   "source": [
    "  * **Imię:** x\n",
    "  * **Nazwisko:** x\n",
    "  * **Numer indeksu:** x"
   ]
  },
  {
   "cell_type": "markdown",
   "id": "fc49cf11-2efc-4467-ba62-7cf78ab20790",
   "metadata": {},
   "source": [
    "## Zadanie 1\n",
    "\n",
    "W tym zadaniu będziesz miał okazję poćwiczyć wyszukiwanie symboli w tabelach Unicode, takich jak na stronach [symbl.cc](https://symbl.cc/pl/unicode-table/) lub [amp-what.com](https://www.amp-what.com/).\n",
    "\n",
    "### Podpunkt a\n",
    "\n",
    "Przywitaj się w przynajmniej 10 językach oprócz angielskiego i polskiego, przynajmniej trzy powitania powinny korzystać z alfabetu innego niż łaciński. Możesz używać napisów w kodowaniu ASCII oraz kodów `\\x..`, `\\u....` i `\\U........`. W komentarzu napisz, jaki to język. Oczywiście możesz używać dowolnych zasobów internetowych."
   ]
  },
  {
   "cell_type": "code",
   "execution_count": 75,
   "id": "6b797891-5f20-4cd4-a972-82175df23728",
   "metadata": {},
   "outputs": [
    {
     "name": "stdout",
     "output_type": "stream",
     "text": [
      "Good morning\n",
      "Dzień dobry\n",
      "Dobrý den\n",
      "Dobrý deň\n",
      "Jó reggelt\n",
      "Labas rytas\n",
      "Labrīt\n",
      "Tere hommikust\n",
      "Hyvää huomenta\n",
      "早安\n",
      "おはよう\n",
      "Καλημέρα\n"
     ]
    }
   ],
   "source": [
    "print(\"Good morning\")  # angielski\n",
    "print(\"Dzie\\u0144 dobry\")  # polski\n",
    "print(\"Dobr\\xfd den\")  # czeski\n",
    "print(\"Dobr\\xfd de\\u0148\")  # słowacki\n",
    "print(\"J\\xf3 reggelt\")  # węgierski\n",
    "print(\"Labas rytas\")  # litewski\n",
    "print(\"Labr\\u012bt\")  # łotewski\n",
    "print(\"Tere hommikust\")  # estoński\n",
    "print(\"Hyv\\xe4\\xe4 huomenta\")  # fiński\n",
    "print(\"\\u65e9\\u5b89\")  # chiński\n",
    "print(\"\\u304a\\u306f\\u3088\\u3046\")  # japoński\n",
    "print(\"\\u039a\\u03b1\\u03bb\\u03b7\\u03bc\\u03ad\\u03c1\\u03b1\")  # grecki"
   ]
  },
  {
   "cell_type": "markdown",
   "id": "af6f53ad-9dea-42b8-bdfe-b9f0c89129c4",
   "metadata": {},
   "source": [
    "### Podpunkt b\n",
    "\n",
    "Wybierz dowolny obraz ASCII-art ze strony [asciiart.eu](https://www.asciiart.eu/). Zapisz go w postaci jednego napisu, zajmującego jedną linię w kodzie. Pamiętaj o możliwości używania białych znaków w tym w miarę potrzeby `\\n` oraz `\\t`.\n",
    "\n",
    "Rozwiązanie umieść w komórce poniżej."
   ]
  },
  {
   "cell_type": "code",
   "execution_count": 89,
   "id": "31b340b9-371f-4477-8b8f-d7b719d577bd",
   "metadata": {},
   "outputs": [
    {
     "name": "stdout",
     "output_type": "stream",
     "text": [
      "    .----.   @   @\n",
      "   / .-\"-.`.  \\v/\n",
      "   | | '\\ \\ \\_/ )\n",
      " ,-\\ `-.' /.'  /\n",
      "'---`----'----'\n"
     ]
    }
   ],
   "source": [
    "print(\"\"\"    .----.   @   @\\n   / .-\"-.`.  \\\\v/\\n   | | '\\\\ \\\\ \\\\_/ )\\n ,-\\\\ `-.' /.'  /\\n'---`----'----'\"\"\")"
   ]
  },
  {
   "cell_type": "markdown",
   "id": "ce255a8c",
   "metadata": {},
   "source": [
    "## Zadanie 2\n",
    "\n",
    "Przeanalizuj program"
   ]
  },
  {
   "cell_type": "code",
   "execution_count": 91,
   "id": "6919864c",
   "metadata": {},
   "outputs": [
    {
     "name": "stdout",
     "output_type": "stream",
     "text": [
      "*************************\n",
      "*  *  *  *  *  *  *  *  *\n",
      "*************************\n",
      "*  *  *  *  *  *  *  *  *\n",
      "*************************\n",
      "*  *  *  *  *  *  *  *  *\n",
      "*************************\n",
      "*  *  *  *  *  *  *  *  *\n",
      "*************************\n",
      "*  *  *  *  *  *  *  *  *\n",
      "*************************\n",
      "*  *  *  *  *  *  *  *  *\n",
      "*************************\n",
      "*  *  *  *  *  *  *  *  *\n",
      "*************************\n",
      "*  *  *  *  *  *  *  *  *\n",
      "*************************\n",
      "\n"
     ]
    }
   ],
   "source": [
    "wiersz1 = \"***\"*8 + \"*\\n\"\n",
    "wiersz2 = \"*  \"*8 + \"*\\n\"\n",
    "szachownica = (wiersz1 + wiersz2)*8 + wiersz1\n",
    "print(szachownica)"
   ]
  },
  {
   "cell_type": "markdown",
   "id": "ab3366ad",
   "metadata": {},
   "source": [
    "### Podpunkt a\n",
    "\n",
    "Zmodyfikuj program tak, aby uzyskać szachownicę o wymiarach $5\\times5$."
   ]
  },
  {
   "cell_type": "code",
   "execution_count": 93,
   "id": "a7b3f55b",
   "metadata": {},
   "outputs": [
    {
     "name": "stdout",
     "output_type": "stream",
     "text": [
      "****************\n",
      "*  *  *  *  *  *\n",
      "****************\n",
      "*  *  *  *  *  *\n",
      "****************\n",
      "*  *  *  *  *  *\n",
      "****************\n",
      "*  *  *  *  *  *\n",
      "****************\n",
      "*  *  *  *  *  *\n",
      "****************\n",
      "\n"
     ]
    }
   ],
   "source": [
    "wiersz1 = \"***\"*5 + \"*\\n\"\n",
    "wiersz2 = \"*  \"*5 + \"*\\n\"\n",
    "szachownica = (wiersz1 + wiersz2)*5 + wiersz1\n",
    "print(szachownica)"
   ]
  },
  {
   "cell_type": "markdown",
   "id": "65a80939",
   "metadata": {},
   "source": [
    "### Podpunkt b\n",
    "\n",
    "Zmodyfikuj program tak, aby uzyskać szachownicę o wymiarach $12\\times 9$."
   ]
  },
  {
   "cell_type": "code",
   "execution_count": 107,
   "id": "93c205ae",
   "metadata": {},
   "outputs": [
    {
     "name": "stdout",
     "output_type": "stream",
     "text": [
      "*************************************\n",
      "*  *  *  *  *  *  *  *  *  *  *  *  *\n",
      "*************************************\n",
      "*  *  *  *  *  *  *  *  *  *  *  *  *\n",
      "*************************************\n",
      "*  *  *  *  *  *  *  *  *  *  *  *  *\n",
      "*************************************\n",
      "*  *  *  *  *  *  *  *  *  *  *  *  *\n",
      "*************************************\n",
      "*  *  *  *  *  *  *  *  *  *  *  *  *\n",
      "*************************************\n",
      "*  *  *  *  *  *  *  *  *  *  *  *  *\n",
      "*************************************\n",
      "*  *  *  *  *  *  *  *  *  *  *  *  *\n",
      "*************************************\n",
      "*  *  *  *  *  *  *  *  *  *  *  *  *\n",
      "*************************************\n",
      "*  *  *  *  *  *  *  *  *  *  *  *  *\n",
      "*************************************\n",
      "\n"
     ]
    }
   ],
   "source": [
    "wiersz1 = \"***\"*12 + \"*\\n\"\n",
    "wiersz2 = \"*  \"*12 + \"*\\n\"\n",
    "szachownica = (wiersz1 + wiersz2)*9 + wiersz1\n",
    "print(szachownica)"
   ]
  },
  {
   "cell_type": "markdown",
   "id": "73e32195",
   "metadata": {},
   "source": [
    "### Podpunkt c\n",
    "\n",
    "Stwórz zmienną `szachownica`, która będzie zawierać napis utworzony na podstawie dwóch liczb całkowitych zapisanych w zmiennych `n` oraz `m`. Wypisanie zmiennej na ekranie\n",
    "\n",
    "```python\n",
    "print(szachownica)\n",
    "```\n",
    "powinno dać w rezultacie pojawienie się szachownicy rozmiaru $2n \\times 2m$ ($2n$ wierszy, $2m$ kolumn), na przykład dla $n=2$ oraz $m=3$ szachownica powinna wyglądać następująco\n",
    "```\n",
    "▨▢▨▢▨▢\n",
    "▢▨▢▨▢▨\n",
    "▨▢▨▢▨▢\n",
    "▢▨▢▨▢▨\n",
    "```\n",
    "Użyj symboli Unicode [25A8](https://unicode-table.com/en/25A8/) oraz [25A2](https://unicode-table.com/en/25A2/). Lewe górne pole szachownicy powinno być czarne (zakreskowane)."
   ]
  },
  {
   "cell_type": "code",
   "execution_count": 111,
   "id": "5ba69fcd",
   "metadata": {},
   "outputs": [],
   "source": [
    "n = 2\n",
    "m = 3"
   ]
  },
  {
   "cell_type": "markdown",
   "id": "fc78b1ee",
   "metadata": {},
   "source": [
    "Rozwiązanie umieść w komórce poniżej."
   ]
  },
  {
   "cell_type": "code",
   "execution_count": 117,
   "id": "0e5571e0",
   "metadata": {},
   "outputs": [
    {
     "name": "stdout",
     "output_type": "stream",
     "text": [
      "▨▢▨▢▨▢\n",
      "▢▨▢▨▢▨\n",
      "▨▢▨▢▨▢\n",
      "▢▨▢▨▢▨\n",
      "\n"
     ]
    }
   ],
   "source": [
    "print(n*(m*\"\\u25a8\\u25a2\"+\"\\n\"+m*\"\\u25a2\\u25a8\"+\"\\n\"))"
   ]
  },
  {
   "cell_type": "markdown",
   "id": "0cbdc8ac",
   "metadata": {},
   "source": [
    "## Zadanie 3\n",
    "\n",
    "Oprócz napisów interpolowanych, niekiedy używamy tak zwanej specyfikacji formatu oraz metody `format`. Zapoznaj się [dokumentacją](https://docs.python.org/3/library/string.html#formatstrings) oraz przykładem poniżej."
   ]
  },
  {
   "cell_type": "code",
   "execution_count": null,
   "id": "96ae9be7",
   "metadata": {},
   "outputs": [],
   "source": [
    "\"Wartość x jest równa {x}\".format(x=7)"
   ]
  },
  {
   "cell_type": "code",
   "execution_count": null,
   "id": "af3dea6c",
   "metadata": {},
   "outputs": [],
   "source": [
    "\"Wartość {x} dziesiętnie to {x:b} binarnie\".format(x=2)"
   ]
  },
  {
   "cell_type": "code",
   "execution_count": 119,
   "id": "ccd0cd69",
   "metadata": {},
   "outputs": [
    {
     "name": "stdout",
     "output_type": "stream",
     "text": [
      "Punkt(3, 7)\n",
      "Punkt(-3, <brak danych>)\n"
     ]
    }
   ],
   "source": [
    "specyfikacja = \"Punkt({x}, {y})\"\n",
    "print(specyfikacja.format(x=3, y=7))\n",
    "print(specyfikacja.format(x=-3, y=\"<brak danych>\"))"
   ]
  },
  {
   "cell_type": "markdown",
   "id": "f2d06043",
   "metadata": {},
   "source": [
    "Zaletą tego rozwiązania jest to, że jedna specyfikacja może być użyta do utworzenia wielu napisów na jej podstawie.\n",
    "\n",
    "### Podpunkt a\n",
    "\n",
    "Stwórz specyfikację tak, aby liczby przekazane przez zmienną `x` pojawiły się w formacie dziesiętnym i szesnastkowym."
   ]
  },
  {
   "cell_type": "code",
   "execution_count": 121,
   "id": "60e563f3",
   "metadata": {},
   "outputs": [
    {
     "name": "stdout",
     "output_type": "stream",
     "text": [
      "Wartość 255 dziesiętnie to ff szesnastkowo\n",
      "Wartość 10 dziesiętnie to a szesnastkowo\n"
     ]
    }
   ],
   "source": [
    "specyfikacja = \"Wartość {x} dziesiętnie to {x:x} szesnastkowo\"\n",
    "print(specyfikacja.format(x=255))\n",
    "print(specyfikacja.format(x=10))"
   ]
  },
  {
   "cell_type": "markdown",
   "id": "3369d128",
   "metadata": {},
   "source": [
    "### Podpunkt b\n",
    "\n",
    "Stwórz specyfikację tak, aby liczby przekazane przez zmienną `x` pojawiły się z dokładnością do dwóch miejsc po przecinku (przecinek będzie zapisany jako kropka, zgodnie ze stylem anglosaskim)."
   ]
  },
  {
   "cell_type": "code",
   "execution_count": 123,
   "id": "89b68de3",
   "metadata": {},
   "outputs": [
    {
     "name": "stdout",
     "output_type": "stream",
     "text": [
      "3.14\n",
      "3.00\n",
      "12.12\n"
     ]
    }
   ],
   "source": [
    "specyfikacja = \"{x:.2f}\"\n",
    "print(specyfikacja.format(x=3.14))\n",
    "print(specyfikacja.format(x=3))\n",
    "print(specyfikacja.format(x=12.123456))"
   ]
  },
  {
   "cell_type": "markdown",
   "id": "69837572",
   "metadata": {},
   "source": [
    "### Podpunkt c\n",
    "Stwórz specyfikację tak, aby liczby przekazane przez zmienne `x` w kilku wywołaniach, były wyrównane w pionie na przecinku i miały dwa miejsca po przecinku. Możesz założyć, że wszystkie liczby są mniejsze od `100000`."
   ]
  },
  {
   "cell_type": "code",
   "execution_count": 131,
   "id": "1de0fa22",
   "metadata": {},
   "outputs": [
    {
     "name": "stdout",
     "output_type": "stream",
     "text": [
      "    3.14\n",
      "   30.00\n",
      "12345.12\n"
     ]
    }
   ],
   "source": [
    "specyfikacja = \"{x:>8.2f}\"\n",
    "print(specyfikacja.format(x=3.14))\n",
    "print(specyfikacja.format(x=30))\n",
    "print(specyfikacja.format(x=12345.123456))"
   ]
  },
  {
   "cell_type": "markdown",
   "id": "4c35a34b",
   "metadata": {},
   "source": [
    "## Zadanie 4\n",
    "\n",
    "Przeanalizuj program z wykładu."
   ]
  },
  {
   "cell_type": "code",
   "execution_count": 133,
   "id": "c7a59ebe",
   "metadata": {},
   "outputs": [
    {
     "name": "stdin",
     "output_type": "stream",
     "text": [
      "Jak masz na imię?  Michał\n"
     ]
    },
    {
     "name": "stdout",
     "output_type": "stream",
     "text": [
      "Witaj Michał, miło Cię widzieć!\n"
     ]
    }
   ],
   "source": [
    "imię = input(\"Jak masz na imię? \")\n",
    "print(\"Witaj \" + imię + \", miło Cię widzieć!\")"
   ]
  },
  {
   "cell_type": "markdown",
   "id": "d6adc223",
   "metadata": {},
   "source": [
    "### Podpunkt a\n",
    "\n",
    "Zmodyfikuj program tak, aby pojawiła się dodatkowa linia, brzmiąca:\n",
    "```\n",
    "Czy wiedziałeś, że twoje imie czytane od końca, to ...?\n",
    "```\n",
    "W tym podpunkcie nie musisz przejmować się wielkością liter."
   ]
  },
  {
   "cell_type": "code",
   "execution_count": 137,
   "id": "15174b8b",
   "metadata": {},
   "outputs": [
    {
     "name": "stdin",
     "output_type": "stream",
     "text": [
      "Jak masz na imię?  Michał\n"
     ]
    },
    {
     "name": "stdout",
     "output_type": "stream",
     "text": [
      "Witaj Michał, miło Cię widzieć!\n",
      "Czy wiedziałeś, że twoje imie czytane od końca, to łahciM?\n"
     ]
    }
   ],
   "source": [
    "imię = input(\"Jak masz na imię? \")\n",
    "print(\"Witaj \" + imię + \", miło Cię widzieć!\")\n",
    "print(\"Czy wiedziałeś, że twoje imie czytane od końca, to \" + imię[::-1] + \"?\")"
   ]
  },
  {
   "cell_type": "markdown",
   "id": "5f37896f",
   "metadata": {},
   "source": [
    "### Podpunkt b\n",
    "Zmodyfikuj program tak, aby zarazem imię, jak i imię czytane od końca zaczynało się wielką literą i aby były to jedyne wielkie litery w słowie. Aby odnaleźć odpowiednie metody, zapoznaj się z [dokumentacją](https://docs.python.org/3/library/stdtypes.html#string-methods)."
   ]
  },
  {
   "cell_type": "code",
   "execution_count": 141,
   "id": "968f5008",
   "metadata": {},
   "outputs": [
    {
     "name": "stdin",
     "output_type": "stream",
     "text": [
      "Jak masz na imię?  Michał\n"
     ]
    },
    {
     "name": "stdout",
     "output_type": "stream",
     "text": [
      "Witaj Michał, miło Cię widzieć!\n",
      "Czy wiedziałeś, że twoje imie czytane od końca, to Łahcim?\n"
     ]
    }
   ],
   "source": [
    "imię = input(\"Jak masz na imię? \")\n",
    "print(\"Witaj \" + imię + \", miło Cię widzieć!\")\n",
    "print(\"Czy wiedziałeś, że twoje imie czytane od końca, to \" + imię[::-1].capitalize() + \"?\")"
   ]
  },
  {
   "cell_type": "markdown",
   "id": "fbca0e97",
   "metadata": {},
   "source": [
    "## Zadanie 5\n",
    "\n",
    "Napisz program, który zapyta użytkownika o dwie liczby całkowite: $x$ oraz $y$, a następnie wypisze kolejno wynik ich dodawania, odejmowania, mnożenia, dzielenia, dzielenia z resztą oraz potęgowania. Dla operacji nieprzemiennych podaj oba możliwe warianty. Pamiętaj o tym, że funkcja `input` zwraca napisy."
   ]
  },
  {
   "cell_type": "code",
   "execution_count": 149,
   "id": "5e4b83a7",
   "metadata": {},
   "outputs": [
    {
     "name": "stdin",
     "output_type": "stream",
     "text": [
      "Podaj x:  7\n",
      "Podaj y:  9\n"
     ]
    },
    {
     "name": "stdout",
     "output_type": "stream",
     "text": [
      "Wynik dodawania: 16\n",
      "Wynik odejmowania: -2 lub 2\n",
      "Wynik mnożenia: 63\n",
      "Wynik dzielenia: 0.78 lub 1.29\n",
      "Wynik dzielenia z resztą: 0r7 lub 1r2\n",
      "Wynik potęgowania: 40353607 lub 4782969\n"
     ]
    }
   ],
   "source": [
    "x = int(input(\"Podaj x: \"))\n",
    "y = int(input(\"Podaj y: \"))\n",
    "print(\"Wynik dodawania:\", x+y)\n",
    "print(\"Wynik odejmowania:\", x-y, \"lub\", y-x)\n",
    "print(\"Wynik mnożenia:\", x*y)\n",
    "print(\"Wynik dzielenia:\", f\"{x/y:.2f}\", \"lub\", f\"{y/x:.2f}\")\n",
    "print(\"Wynik dzielenia z resztą:\", f\"{x//y}r{x%y}\", \"lub\", f\"{y//x}r{y%x}\")\n",
    "print(\"Wynik potęgowania:\", x**y, \"lub\", y**x)"
   ]
  },
  {
   "cell_type": "markdown",
   "id": "cab9f191",
   "metadata": {},
   "source": [
    "## Zadanie 6\n",
    "\n",
    "Przypomnij sobie rozwiązanie zadania 4b z poprzedniej listy. Napisz program, który zapyta użytkownika o trzy liczby `D`, `M` oraz `R` oznaczające kolejno dzień, miesiąc oraz rok. Następnie w wyniku wypisz jedynie dzień tygodnia. Przykładowe użycie, w którym trzy pierwsze linie to wypełniony formularz a czwarta to wynik działania to:\n",
    "```\n",
    "Podaj dzień: 20\n",
    "Podaj miesiąc: 10\n",
    "Podaj rok: 2022\n",
    "Dzień tygodnia to czwartek.\n",
    "```"
   ]
  },
  {
   "cell_type": "code",
   "execution_count": 165,
   "id": "109c368a",
   "metadata": {},
   "outputs": [
    {
     "name": "stdin",
     "output_type": "stream",
     "text": [
      "Podaj dzień:  14\n",
      "Podaj miesiąc:  10\n",
      "Podaj rok:  2024\n"
     ]
    },
    {
     "name": "stdout",
     "output_type": "stream",
     "text": [
      "Dzień tygodnia to poniedziałek\n"
     ]
    }
   ],
   "source": [
    "import math\n",
    "\n",
    "D = int(input(\"Podaj dzień: \"))\n",
    "M = int(input(\"Podaj miesiąc: \"))\n",
    "R = int(input(\"Podaj rok: \"))\n",
    "\n",
    "assert 1 <= D <= 31\n",
    "assert 1 <= M <= 12\n",
    "\n",
    "def dzien_tygodnia(R, M, D):\n",
    "    a = math.floor((14 - M)/12)\n",
    "    y = R + 4800 - a\n",
    "    m = M + 12*a - 3\n",
    "    d = D + math.floor((153*m+2)/5) + 365*y + math.floor(y/4) - math.floor(y/100) + math.floor(y/400) - 32045\n",
    "    return (\"poniedziałek\", \"wtorek\", \"środa\", \"czwartek\", \"piątek\", \"sobota\", \"niedziela\")[d % 7]\n",
    "\n",
    "print(\"Dzień tygodnia to\", dzien_tygodnia(R, M, D))"
   ]
  },
  {
   "cell_type": "markdown",
   "id": "3d7a18a0",
   "metadata": {},
   "source": [
    "<div style=\"text-align: right\"> Powodzenia!<br><i>Zespół kursu Wstęp do programowania</i></div>"
   ]
  },
  {
   "cell_type": "code",
   "execution_count": null,
   "id": "e342db8b-d03a-4046-b2db-289272bb9fc4",
   "metadata": {},
   "outputs": [],
   "source": []
  }
 ],
 "metadata": {
  "kernelspec": {
   "display_name": "Python 3 (ipykernel)",
   "language": "python",
   "name": "python3"
  },
  "language_info": {
   "codemirror_mode": {
    "name": "ipython",
    "version": 3
   },
   "file_extension": ".py",
   "mimetype": "text/x-python",
   "name": "python",
   "nbconvert_exporter": "python",
   "pygments_lexer": "ipython3",
   "version": "3.12.4"
  }
 },
 "nbformat": 4,
 "nbformat_minor": 5
}
